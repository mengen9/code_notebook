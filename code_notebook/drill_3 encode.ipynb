{
 "cells": [
  {
   "cell_type": "markdown",
   "metadata": {},
   "source": [
    "# 编码问题\n",
    "- 为什么需要编码\n",
    "- 计算机本质上只能识别01代码\n",
    "- 第一阶段：ASCII\n",
    "- 第二阶段 ：百花齐放，GB2312 GBK,BIG5,Latin1,JIS\n",
    " - latin1:兼容欧洲大多数语言\n",
    " - 中国：GBxxxxxx\n",
    " - 韩国台湾：BIG5\n",
    " - 日本：JIS\n",
    " - ANSI-MBCS(多字节字符集)\n",
    "- 第三个阶段：Unicode(IOS)\n",
    "- ASCII-american standard code for information interchange\n",
    "- BOM byteordermark\n",
    "# python编码问题\n",
    "- str\n",
    "- bytes\n",
    "- bytearray"
   ]
  },
  {
   "cell_type": "code",
   "execution_count": 16,
   "metadata": {},
   "outputs": [
    {
     "name": "stdout",
     "output_type": "stream",
     "text": [
      "b'\\xe4\\xb8\\xad'\n"
     ]
    },
    {
     "data": {
      "text/plain": [
       "'王'"
      ]
     },
     "execution_count": 16,
     "metadata": {},
     "output_type": "execute_result"
    }
   ],
   "source": [
    "#编码\n",
    "b = bytes.fromhex('E4 B8 AD')\n",
    "print(b)\n",
    "#解码\n",
    "b.decode('utf-8')\n",
    "str(b)\n",
    "#ord查看码位\n",
    "ord('A')\n",
    "ord('孟')\n",
    "ord('王')\n",
    "\n",
    "chr(29579)"
   ]
  },
  {
   "cell_type": "code",
   "execution_count": null,
   "metadata": {},
   "outputs": [],
   "source": []
  },
  {
   "cell_type": "code",
   "execution_count": null,
   "metadata": {},
   "outputs": [],
   "source": []
  }
 ],
 "metadata": {
  "kernelspec": {
   "display_name": "Python 3",
   "language": "python",
   "name": "python3"
  },
  "language_info": {
   "codemirror_mode": {
    "name": "ipython",
    "version": 3
   },
   "file_extension": ".py",
   "mimetype": "text/x-python",
   "name": "python",
   "nbconvert_exporter": "python",
   "pygments_lexer": "ipython3",
   "version": "3.7.0"
  }
 },
 "nbformat": 4,
 "nbformat_minor": 2
}
