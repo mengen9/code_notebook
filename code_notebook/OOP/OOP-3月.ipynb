{
 "cells": [
  {
   "cell_type": "markdown",
   "metadata": {},
   "source": [
    "# OOP代码练习"
   ]
  },
  {
   "cell_type": "markdown",
   "metadata": {},
   "source": [
    "# 面向对象初识\n",
    "- 定义一个学生类：\n",
    "    - 要求属性：姓名，年龄，成绩\n",
    "    - 定义三个方法：获得学生的姓名，年龄，最高成绩"
   ]
  },
  {
   "cell_type": "code",
   "execution_count": 7,
   "metadata": {},
   "outputs": [
    {
     "name": "stdout",
     "output_type": "stream",
     "text": [
      "scott\n",
      "18\n",
      "123\n"
     ]
    }
   ],
   "source": [
    "#面向对象的小练习\n",
    "class Student():\n",
    "    def __init__(self,name,age,scores):\n",
    "        self.name = name\n",
    "        self.age = age\n",
    "        self.scores = scores\n",
    "    def get_name(self):\n",
    "        return self.name\n",
    "    def get_age(self):\n",
    "        return self.age\n",
    "    def get_scores(self):\n",
    "        return max(self.scores)\n",
    "s = Student(\"scott\",18,[123,45,78])\n",
    "print(s.get_name())\n",
    "print(s.get_age())\n",
    "print(s.get_scores())\n"
   ]
  },
  {
   "cell_type": "markdown",
   "metadata": {},
   "source": [
    "# 定义一个字典类\n",
    "- 初始化一个字典类\n",
    "- 定义方法\n",
    "    - 删除字典中的元素\n",
    "    - 以列表的形式输出字典中键\n",
    "    - 根据键获得值\n",
    "    - 以列表的形式输出值"
   ]
  },
  {
   "cell_type": "code",
   "execution_count": 1,
   "metadata": {},
   "outputs": [
    {
     "name": "stdout",
     "output_type": "stream",
     "text": [
      "dict_values(['one', 'two', 'three'])\n"
     ]
    }
   ],
   "source": [
    "class Dict():\n",
    "    # 类的初始化\n",
    "    def __init__(self,dict):\n",
    "        self.dict = dict\n",
    "    # 类的删除\n",
    "    def delete_key(self,key):\n",
    "        if key not in self.dict.keys():\n",
    "            return \"key不在字典中\"\n",
    "        else:\n",
    "            self.dict.pop(key)\n",
    "            return \"删除成功\"\n",
    "    #获得键值\n",
    "    def get_dict(self,key):\n",
    "        if key not in self.dict.keys():\n",
    "            return \"not found\"\n",
    "        else:\n",
    "            return self.dict[key]\n",
    "        #输出键，并以列表的形式输出\n",
    "    def get_key(self):\n",
    "        return self.dict.keys()\n",
    "    #合并值，并以列表的形式输出\n",
    "    def update_value(self,kw):\n",
    "        self.dict = dict(self.dict,**kw)\n",
    "        return self.dict.values() \n",
    "d = Dict({1:\"one\",2:\"two\"})\n",
    "# print(d.delete_key(1))\n",
    "# print(d.get_dict(1))\n",
    "# print(d.get_key())\n",
    "print(d.update_value({'3':\"three\"}))\n",
    "\n",
    "        "
   ]
  },
  {
   "cell_type": "markdown",
   "metadata": {},
   "source": [
    "# 自定义列表类\n",
    "- 初始化一个列表\n",
    "- 定义方法\n",
    "    - 向列表中添加元素\n",
    "        - 需求：添加的元素只能是整数类型或者字符串类型\n",
    "    - 获取列表中元素的值\n",
    "        - 根据索引获取：要对索引进行范围检查\n",
    "    - 列表的合并(extend)\n",
    "    - 列表的删除(删除列表中的最后一个元素，并返回删除的值)\n",
    "        - 删除之前要对列表进行检查：保证列表不能为空"
   ]
  },
  {
   "cell_type": "code",
   "execution_count": 2,
   "metadata": {},
   "outputs": [
    {
     "name": "stdout",
     "output_type": "stream",
     "text": [
      "([1, 2, 3, 8, 9, 3], 'okkkkkkk')\n"
     ]
    }
   ],
   "source": [
    "class ListClass():\n",
    "    #列表的初始化\n",
    "    def __init__(self,list_value):\n",
    "        self.list = list_value\n",
    "    #列表的添加\n",
    "    def list_add(self,value):\n",
    "        # 需求：只能添加字符串和整数类型的元素\n",
    "        if isinstance(value,(str ,int)):  \n",
    "            self.list.append(value)\n",
    "            return self.list ,\"okkkkkkk\"\n",
    "        else:\n",
    "            return \"add inttype or strtype\"\n",
    "    #列表的获取(根据索引取值)\n",
    "    def get_key(self,index):\n",
    "        if index>=0 and index < len(self.list):\n",
    "            return self.list[index]\n",
    "        else:\n",
    "            return \"indexboundrange\"\n",
    "    #列表的合并\n",
    "    def update_list(self,new_list):\n",
    "        self.list.extend(new_list)\n",
    "        return self.list\n",
    "    #删除列表，并且返回最后一个值\n",
    "    def delete_key(self):\n",
    "        if len(self.list) >= 0:\n",
    "            return self.list.pop(-1)\n",
    "        else:\n",
    "            return \"list is empty\"     \n",
    "lc = ListClass([1,2,3,8,9])\n",
    "print(lc.list_add(3))\n",
    "# lc.list_add(666)\n",
    "# print(lc.get_key(6))\n",
    "# print(lc.update_list([7,8,9]))\n",
    "# lc.delete_key()\n",
    "# print(lc.list_add(\"jupyter\"))"
   ]
  },
  {
   "cell_type": "markdown",
   "metadata": {},
   "source": [
    "# 定义一个集合类\n",
    "- 方法：\n",
    "    - 集合元素的添加\n",
    "    - 集合元素的交集\n",
    "        - 要求传入的必须是集合\n",
    "    - 集合元素的并集\n",
    "    - 集合元素的差集"
   ]
  },
  {
   "cell_type": "code",
   "execution_count": 3,
   "metadata": {},
   "outputs": [
    {
     "name": "stdout",
     "output_type": "stream",
     "text": [
      "{1, 2, 4, 5}\n"
     ]
    }
   ],
   "source": [
    "class MySet():\n",
    "    # 集合的初始化\n",
    "    def __init__(self,new_set):\n",
    "        self.myset = new_set\n",
    "    # 集合的添加\n",
    "    def set_add(self,value):\n",
    "        self.myset.add(value)\n",
    "        return self.myset\n",
    "    # 集合的交集\n",
    "    def get_intersection(self,unioninfo):\n",
    "        return self.myset & unioninfo\n",
    "    #集合的交集\n",
    "    def get_union(self,unioninfo):\n",
    "        return self.myset | unioninfo\n",
    "    def get_difference(self,unioninfo):\n",
    "        return self.myset - unioninfo\n",
    "\n",
    "mt = MySet(set([1,2,3,4,5]))\n",
    "# print(mt.set_add(666))\n",
    "# print(mt.get_intersection((set([2,3,4]))))\n",
    "# print(mt.get_union((set([3,666,777]))))\n",
    "print(mt.get_difference((set([3,666,777]))))"
   ]
  },
  {
   "cell_type": "markdown",
   "metadata": {},
   "source": [
    "# 写一个登录软件\n",
    "- 面向对象的练习\n",
    "- 数据结构选择dict(字典类型)\n",
    "- 提示用户输入用户名，如果是会员则提示改账号已注册，请输入密码\n",
    "- 如果该账户已注册，提示输入密码，对密码进行判断，如果密码正确，则登录成功，并退出程序\n",
    "- 否则创建用户，创建密码，重新登录(While循环控制)"
   ]
  },
  {
   "cell_type": "code",
   "execution_count": 9,
   "metadata": {},
   "outputs": [
    {
     "name": "stdout",
     "output_type": "stream",
     "text": [
      "<class 'dict'>\n",
      "请输入用户名mengen\n",
      "-----请注册-----\n",
      "创建新用户：123\n",
      "输入新密码：123\n",
      "改用户创建成功，请重新登录\n",
      "{'mengen9': '123', '123': '123'}\n",
      "请输入用户名hqd\n",
      "-----请注册-----\n",
      "创建新用户：hqd\n",
      "输入新密码：123\n",
      "改用户创建成功，请重新登录\n",
      "{'mengen9': '123', '123': '123', 'hqd': '123'}\n",
      "请输入用户名wtj\n",
      "-----请注册-----\n",
      "创建新用户：wtj\n",
      "输入新密码：123\n",
      "改用户创建成功，请重新登录\n",
      "{'mengen9': '123', '123': '123', 'hqd': '123', 'wtj': '123'}\n",
      "请输入用户名ps\n",
      "-----请注册-----\n",
      "创建新用户：ps\n",
      "输入新密码：123\n",
      "改用户创建成功，请重新登录\n",
      "{'mengen9': '123', '123': '123', 'hqd': '123', 'wtj': '123', 'ps': '123'}\n",
      "请输入用户名sgq\n",
      "-----请注册-----\n",
      "创建新用户：sgq\n",
      "输入新密码：123\n",
      "改用户创建成功，请重新登录\n",
      "{'mengen9': '123', '123': '123', 'hqd': '123', 'wtj': '123', 'ps': '123', 'sgq': '123'}\n",
      "请输入用户名ps\n",
      "该用户已注册：\n",
      "请输入密码1\n",
      "密码不正确：！！！！\n",
      "{'mengen9': '123', '123': '123', 'hqd': '123', 'wtj': '123', 'ps': '123', 'sgq': '123'}\n",
      "请输入用户名ps\n",
      "该用户已注册：\n",
      "请输入密码12\n",
      "密码不正确：！！！！\n",
      "{'mengen9': '123', '123': '123', 'hqd': '123', 'wtj': '123', 'ps': '123', 'sgq': '123'}\n",
      "请输入用户名ps\n",
      "该用户已注册：\n",
      "请输入密码123\n",
      "恭喜你登录成功\n"
     ]
    }
   ],
   "source": [
    "class Foundation():\n",
    "    def __init__(self):\n",
    "        self.user_info = {\"mengen9\":\"123\"}\n",
    "        print(type(self.user_info))\n",
    "    def log_in(self):\n",
    "        while True:\n",
    "            user_name = input(\"请输入用户名\")\n",
    "            if user_name in self.user_info.keys():\n",
    "                print(\"该用户已注册：\")\n",
    "                password = input(\"请输入密码\")\n",
    "                if self.user_info[user_name] == password:\n",
    "                    print(\"恭喜你登录成功\")\n",
    "                    break\n",
    "                else:\n",
    "                    print(\"密码不正确：！！！！\")\n",
    "            else:\n",
    "                print(\"-----请注册-----\")\n",
    "                user_newname = input(\"创建新用户：\")\n",
    "                user_newpwd = input(\"输入新密码：\")\n",
    "                self.user_info[user_newname] = user_newpwd\n",
    "                print(\"改用户创建成功，请重新登录\")\n",
    "            print(self.user_info)\n",
    "f = Foundation()\n",
    "f.log_in()\n",
    "            \n",
    "            \n"
   ]
  },
  {
   "cell_type": "markdown",
   "metadata": {},
   "source": [
    "# 面向对象进阶案例\n",
    "- 修学校"
   ]
  },
  {
   "cell_type": "code",
   "execution_count": 1,
   "metadata": {},
   "outputs": [
    {
     "name": "stdout",
     "output_type": "stream",
     "text": [
      "我们现在有了HZ的1期Oracle课程\n",
      "我们现在有了AH的3期Python课程\n",
      "我叫xiaohudie,我今年18,我的角色是student\n",
      "我们先又来了一个新学员xiaohudie\n",
      "我来这里学习Python课，我的学号是PythonS301\n",
      "我交了368块钱给Python课\n",
      "我叫taotao,我今年19,我的角色是student\n",
      "我来这里学习Oracle课，我的学号是OracleS102\n",
      "我们先又来了一个新学员taotao\n",
      "我交了368块钱给Oracle课\n",
      "我叫孟派森,我今年18,我的角色是teacher\n",
      "我们现在聘请了一个新老师孟派森\n",
      "['Oracle']\n",
      "['Python']\n",
      "Day1 --- A\n",
      "Day2 --- B\n",
      "ByeBye\n",
      "给好评\n",
      "taotao觉得孟派森的课真棒\n"
     ]
    }
   ],
   "source": [
    "Course_list = []\n",
    "#定义一个学校\n",
    "class School():\n",
    "    def __init__(self,school_name):\n",
    "        self.school_name = school_name\n",
    "        self.students_list = []\n",
    "        self.teachers_list = []\n",
    "        #定义一个全局的课程列表\n",
    "        global Course_list\n",
    "    def employee(self,obj):\n",
    "        self.teachers_list.append(obj.name)\n",
    "        print(\"我们现在聘请了一个新老师{}\".format(obj.name))\n",
    "    def login(self,obj):\n",
    "        self.students_list.append(obj.name)\n",
    "        print(\"我们先又来了一个新学员{}\".format(obj.name))\n",
    "#定义一个年级\n",
    "class Grade(School):\n",
    "    def __init__(self,school_name,grade_code,grade_course):\n",
    "        # 继承父类的构造方法\n",
    "        super(Grade,self).__init__(school_name)\n",
    "        self.code = grade_code\n",
    "        self.course = grade_course\n",
    "        self.members = []\n",
    "        Course_list.append(self.course)\n",
    "        print(\"我们现在有了{}的{}期{}课程\".format(self.school_name,self.code,self.course))\n",
    "    # 定义课程信息\n",
    "    def course_info(self):\n",
    "        print(\"课程大纲{}是 day1,day2,day3\".format(self.course))\n",
    "Oracle = Grade(\"HZ\",1,\"Oracle\")\n",
    "Python = Grade(\"AH\",3,\"Python\")\n",
    "# 定义一个学校成员类\n",
    "class School_member():\n",
    "    def __init__(self,name,age,gender,role):\n",
    "        self.name = name\n",
    "        self.age = age\n",
    "        self.gender = gender\n",
    "        self.role = role\n",
    "        self.course_list = []\n",
    "        print(\"我叫{},我今年{},我的角色是{}\".format(self.name,self.age,self.role))\n",
    "stu_num_id =00\n",
    "class Students(School_member):\n",
    "    def __init__(self,name,age,gender,role,obj):\n",
    "        super(Students,self).__init__(name,age,gender,role)\n",
    "        global stu_num_id\n",
    "        stu_num_id += 1\n",
    "        #zfill()函数的用法，括号里面表示用来填充的整数，保留几位小数\n",
    "        stu_id = obj.course + \"S\" + str(obj.code) + str(stu_num_id).zfill(2)\n",
    "        self.id = stu_id\n",
    "        self.mark_list = {}\n",
    "    def study(self,obj):\n",
    "        print(\"我来这里学习{}课，我的学号是{}\".format(obj.course,self.id))\n",
    "    def pay(self,obj):\n",
    "        print(\"我交了368块钱给{}课\".format(obj.course))\n",
    "        self.course_list.append(obj.course)\n",
    "    def praise(self,obj):\n",
    "        print(\"{}觉得{}的课真棒\".format(self.name,obj.name))\n",
    "    def mark_check(self):\n",
    "        for k,v in self.mark_list.items():\n",
    "            print(k,\"---\",v)\n",
    "    def out(self):\n",
    "        print(\"ByeBye\")\n",
    "teach_num_id = 00\n",
    "class Teachers(School_member):\n",
    "    def __init__(self,name,age,gender,role,obj):\n",
    "        super(Teachers,self).__init__(name,age,gender,role)\n",
    "        global teach_num_id\n",
    "        teach_num_id += 1\n",
    "        teach_id = obj.school_name + \"T\" + str(obj.code) + str(teach_num_id).zfill(2)\n",
    "        self.id = teach_id\n",
    "    def teaching(self,obj):\n",
    "        #course.course这里就是表示Python对象哈\n",
    "        print(\"我教{}课，我的id是{}\".format(obj.course,self.id))\n",
    "    def record_mark(self,Date,course,obj,level):\n",
    "        obj.mark_list[\"Day\"+ Date] = level\n",
    "a = Students(\"xiaohudie\",18,\"W\",\"student\",Python)#这里的Python就是上面Students初始化函数里面的obj\n",
    "Python.login(a)\n",
    "a.study(Python)\n",
    "a.pay(Python)\n",
    "b = Students(\"taotao\",19,\"W\",\"student\",Oracle)\n",
    "b.study(Oracle)\n",
    "Oracle.login(b)\n",
    "b.pay(Oracle)\n",
    "t = Teachers(\"孟派森\",18,\"M\",\"teacher\",Oracle)\n",
    "Oracle.employee(t)\n",
    "t.record_mark(\"1\",Oracle,a,\"A\")\n",
    "t.record_mark(\"2\",Oracle,b,\"B\")  \n",
    "print(b.course_list)\n",
    "print(a.course_list)\n",
    "a.mark_check()\n",
    "b.mark_check()\n",
    "b.out()\n",
    "print(\"给好评\")\n",
    "b.praise(t)  "
   ]
  },
  {
   "cell_type": "markdown",
   "metadata": {},
   "source": [
    "# 定义一个门票系统\n",
    "- 门票原价是100元\n",
    "- 当周末的时候门票涨价20%\n",
    "- 小孩子半价\n",
    "- 计算两个小孩和一个承认平日的价格"
   ]
  },
  {
   "cell_type": "code",
   "execution_count": 7,
   "metadata": {},
   "outputs": [
    {
     "name": "stdout",
     "output_type": "stream",
     "text": [
      "计算两个成年人和一个小孩子平日的价格\n",
      "250.0\n"
     ]
    }
   ],
   "source": [
    "class Ticket():\n",
    "    def __init__(self,weekend=False,child=False):\n",
    "        self.original = 100\n",
    "        if weekend:\n",
    "            self.inc = 1.2\n",
    "        else:\n",
    "            self.inc = 1\n",
    "        if child:\n",
    "            self.discount = 0.5\n",
    "        else:\n",
    "            self.discount = 1\n",
    "    def count_price(self ,num):\n",
    "        return self.original * self.inc * self.discount * num\n",
    "print(\"计算两个成年人和一个小孩子平日的价格\")\n",
    "adult = Ticket()\n",
    "child = Ticket(child=True)\n",
    "print(adult.count_price(2)+child.count_price(1))"
   ]
  },
  {
   "cell_type": "markdown",
   "metadata": {},
   "source": [
    "# 定义一个点(point)和一个直线(line)类,使用getlen获取亮点之间直线的长度"
   ]
  },
  {
   "cell_type": "code",
   "execution_count": 27,
   "metadata": {},
   "outputs": [
    {
     "data": {
      "text/plain": [
       "5.0"
      ]
     },
     "execution_count": 27,
     "metadata": {},
     "output_type": "execute_result"
    }
   ],
   "source": [
    "import math\n",
    "class Point():\n",
    "    def __init__(self,x = 0, y = 0):\n",
    "        self.x = x\n",
    "        self.y = y\n",
    "    #提供两个get方法\n",
    "    def get_x(self):\n",
    "        return self.x\n",
    "    def get_y(self):\n",
    "        return self.y\n",
    "class Line():\n",
    "    def __init__(self,p1,p2):\n",
    "        self.x = p2.get_x() - p1.get_x()\n",
    "        self.y = p2.get_y() - p1.get_y()\n",
    "        self.len = math.sqrt(self.x*self.x+self.y*self.y)\n",
    "    def get_len(self):\n",
    "        return self.len\n",
    "p1 = Point(2,3)\n",
    "p2 = Point(5,7)\n",
    "line = Line(p1,p2)\n",
    "line.get_len()\n",
    "    "
   ]
  }
 ],
 "metadata": {
  "kernelspec": {
   "display_name": "Python 3",
   "language": "python",
   "name": "python3"
  },
  "language_info": {
   "codemirror_mode": {
    "name": "ipython",
    "version": 3
   },
   "file_extension": ".py",
   "mimetype": "text/x-python",
   "name": "python",
   "nbconvert_exporter": "python",
   "pygments_lexer": "ipython3",
   "version": "3.7.0"
  }
 },
 "nbformat": 4,
 "nbformat_minor": 2
}
