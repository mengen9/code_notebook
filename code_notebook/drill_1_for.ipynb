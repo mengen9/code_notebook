{
 "cells": [
  {
   "cell_type": "markdown",
   "metadata": {},
   "source": [
    "#  for 循环\n",
    " - 规则:双层for循环，外层控制趟数，内层控制每趟循环的次数\n",
    "   - 内层控制每趟循环的次数(即每次不换行的打印，换行在外层for里面控制)\n",
    " - 可以打印出不同的花样图形，变换内层for实现\n",
    " - for-i控制行号\n",
    " - for-j控制列号\n"
   ]
  },
  {
   "cell_type": "code",
   "execution_count": 4,
   "metadata": {},
   "outputs": [
    {
     "name": "stdout",
     "output_type": "stream",
     "text": [
      "* * * * * \n",
      "* * * * * \n",
      "* * * * * \n",
      "* * * * * \n"
     ]
    }
   ],
   "source": [
    "for i in range(1,5):\n",
    "    print(\"* \"*5)"
   ]
  },
  {
   "cell_type": "code",
   "execution_count": 2,
   "metadata": {},
   "outputs": [
    {
     "name": "stdout",
     "output_type": "stream",
     "text": [
      "*  *  *  *  \n",
      "*  *  *  *  \n",
      "*  *  *  *  \n",
      "*  *  *  *  \n"
     ]
    }
   ],
   "source": [
    "for i in range(1,5):\n",
    "    for j in range(1,5):\n",
    "        print(\"* \",end=\" \")\n",
    "    print()"
   ]
  },
  {
   "cell_type": "code",
   "execution_count": 23,
   "metadata": {},
   "outputs": [
    {
     "name": "stdout",
     "output_type": "stream",
     "text": [
      "* * * * * \n",
      "*       * \n",
      "*       * \n",
      "*       * \n",
      "* * * * * \n"
     ]
    }
   ],
   "source": [
    "for i in range(5):\n",
    "    if i==0 or i==4:\n",
    "        print(\"* \"*5)\n",
    "    else:\n",
    "        for j in range(5):\n",
    "            if j==0 or j==4:\n",
    "                print(\"*\",end=\" \")\n",
    "            else:\n",
    "                print(\" \",end=\" \")\n",
    "        print()"
   ]
  },
  {
   "cell_type": "code",
   "execution_count": 27,
   "metadata": {},
   "outputs": [
    {
     "name": "stdout",
     "output_type": "stream",
     "text": [
      "*  \n",
      "*  *  \n",
      "*  *  *  \n",
      "*  *  *  *  \n",
      "*  *  *  *  *  \n"
     ]
    }
   ],
   "source": [
    "for i in range(5):\n",
    "    for j in range(i+1):\n",
    "        print(\"* \",end=\" \")\n",
    "    print()"
   ]
  },
  {
   "cell_type": "code",
   "execution_count": 19,
   "metadata": {},
   "outputs": [
    {
     "name": "stdout",
     "output_type": "stream",
     "text": [
      "* \n",
      "* * \n",
      "*   * \n",
      "*     * \n",
      "* * * * * \n"
     ]
    }
   ],
   "source": [
    "#打印空心的三角\n",
    "for i in range(5):\n",
    "    for j in range(i+1):\n",
    "        if i==4:\n",
    "            print(\"* \",end=\"\")\n",
    "            continue\n",
    "        else:\n",
    "            if j==0 or j==i:\n",
    "                print(\"* \",end=\"\")\n",
    "            else:\n",
    "                print(\"  \",end=\"\")\n",
    "    print()\n",
    "        "
   ]
  },
  {
   "cell_type": "code",
   "execution_count": 35,
   "metadata": {},
   "outputs": [
    {
     "name": "stdout",
     "output_type": "stream",
     "text": [
      "* * * * * \n",
      "* * * * \n",
      "* * * \n",
      "* * \n",
      "* \n"
     ]
    }
   ],
   "source": [
    "#倒立三角形\n",
    "for i in range(5):\n",
    "    for j in range(5-i):\n",
    "        print(\"* \",end=\"\")\n",
    "    print()"
   ]
  },
  {
   "cell_type": "code",
   "execution_count": 45,
   "metadata": {},
   "outputs": [
    {
     "name": "stdout",
     "output_type": "stream",
     "text": [
      "* * * * * \n",
      "*     * \n",
      "*   * \n",
      "* * \n",
      "* \n"
     ]
    }
   ],
   "source": [
    "#倒立空心三角形\n",
    "for i in range(5):\n",
    "    for j in range(5-i):\n",
    "        if i==0:\n",
    "            print(\"* \",end=\"\")\n",
    "            continue\n",
    "        if j ==0 or j==5-i-1:\n",
    "            print(\"* \",end=\"\")\n",
    "        else:\n",
    "            print(\"  \",end=\"\")\n",
    "    print()"
   ]
  },
  {
   "cell_type": "code",
   "execution_count": 1,
   "metadata": {},
   "outputs": [
    {
     "name": "stdout",
     "output_type": "stream",
     "text": [
      "      * \n",
      "     * * \n",
      "    * * * \n",
      "   * * * * \n",
      "  * * * * * \n",
      " * * * * * * \n"
     ]
    }
   ],
   "source": [
    "#打印正三角\n",
    "for i in range(6):\n",
    "    for j in range(6-i):\n",
    "        print(\" \",end=\"\")\n",
    "    for m in range(i+1):\n",
    "        print(\"* \",end=\"\")\n",
    "    print()"
   ]
  },
  {
   "cell_type": "code",
   "execution_count": 3,
   "metadata": {},
   "outputs": [
    {
     "name": "stdout",
     "output_type": "stream",
     "text": [
      "1*1=1\t \n",
      "2*1=2\t 2*2=4\t \n",
      "3*1=3\t 3*2=6\t 3*3=9\t \n",
      "4*1=4\t 4*2=8\t 4*3=12\t 4*4=16\t \n",
      "5*1=5\t 5*2=10\t 5*3=15\t 5*4=20\t 5*5=25\t \n",
      "6*1=6\t 6*2=12\t 6*3=18\t 6*4=24\t 6*5=30\t 6*6=36\t \n",
      "7*1=7\t 7*2=14\t 7*3=21\t 7*4=28\t 7*5=35\t 7*6=42\t 7*7=49\t \n",
      "8*1=8\t 8*2=16\t 8*3=24\t 8*4=32\t 8*5=40\t 8*6=48\t 8*7=56\t 8*8=64\t \n",
      "9*1=9\t 9*2=18\t 9*3=27\t 9*4=36\t 9*5=45\t 9*6=54\t 9*7=63\t 9*8=72\t 9*9=81\t \n"
     ]
    }
   ],
   "source": [
    "for i in range(1,10):\n",
    "    for j in range(1,i+1):\n",
    "        print(\"{0}*{1}={2}\\t\".format(i,j,j*i),end=\" \")\n",
    "    print()"
   ]
  },
  {
   "cell_type": "markdown",
   "metadata": {},
   "source": [
    "# 冒泡排序"
   ]
  },
  {
   "cell_type": "code",
   "execution_count": 10,
   "metadata": {},
   "outputs": [
    {
     "name": "stdout",
     "output_type": "stream",
     "text": [
      "[-9, 3, 4, 5, 7, 9]\n"
     ]
    }
   ],
   "source": [
    "def bubble_Sort(list1):\n",
    "    for i in range(len(list1)-1):\n",
    "        for j in range(len(list1)-1-i):\n",
    "            if list1[j] > list1[j+1]:\n",
    "                list1[j],list1[j+1] = list1[j+1],list1[j]\n",
    "    print(list1)\n",
    "l = [9,5,4,-9,3,7]\n",
    "bubble_Sort(l)"
   ]
  },
  {
   "cell_type": "markdown",
   "metadata": {},
   "source": [
    "# 一行代码实现求和"
   ]
  },
  {
   "cell_type": "code",
   "execution_count": 12,
   "metadata": {},
   "outputs": [
    {
     "data": {
      "text/plain": [
       "5050"
      ]
     },
     "execution_count": 12,
     "metadata": {},
     "output_type": "execute_result"
    }
   ],
   "source": [
    "sum(range(101))"
   ]
  },
  {
   "cell_type": "markdown",
   "metadata": {},
   "source": [
    "# str中内置函数之center（）函数，字符串居中显示\n"
   ]
  },
  {
   "cell_type": "code",
   "execution_count": 3,
   "metadata": {},
   "outputs": [
    {
     "name": "stdout",
     "output_type": "stream",
     "text": [
      "------------i love xiaohudie------------\n"
     ]
    }
   ],
   "source": [
    "s = \"i love xiaohudie\"\n",
    "print(s.center(40,'-'))"
   ]
  },
  {
   "cell_type": "code",
   "execution_count": null,
   "metadata": {},
   "outputs": [],
   "source": []
  },
  {
   "cell_type": "code",
   "execution_count": null,
   "metadata": {},
   "outputs": [],
   "source": []
  },
  {
   "cell_type": "code",
   "execution_count": null,
   "metadata": {},
   "outputs": [],
   "source": []
  },
  {
   "cell_type": "code",
   "execution_count": null,
   "metadata": {},
   "outputs": [],
   "source": []
  },
  {
   "cell_type": "code",
   "execution_count": null,
   "metadata": {},
   "outputs": [],
   "source": []
  }
 ],
 "metadata": {
  "kernelspec": {
   "display_name": "Python 3",
   "language": "python",
   "name": "python3"
  },
  "language_info": {
   "codemirror_mode": {
    "name": "ipython",
    "version": 3
   },
   "file_extension": ".py",
   "mimetype": "text/x-python",
   "name": "python",
   "nbconvert_exporter": "python",
   "pygments_lexer": "ipython3",
   "version": "3.7.0"
  }
 },
 "nbformat": 4,
 "nbformat_minor": 2
}
