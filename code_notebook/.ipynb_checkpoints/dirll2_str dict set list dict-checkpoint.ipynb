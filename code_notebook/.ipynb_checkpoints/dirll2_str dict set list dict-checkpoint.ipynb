{
 "cells": [
  {
   "cell_type": "markdown",
   "metadata": {},
   "source": [
    "# python数据类型的内置函数\n",
    "- str\n",
    "- list\n",
    "- set\n",
    "- tuple\n",
    "- dict"
   ]
  },
  {
   "cell_type": "markdown",
   "metadata": {},
   "source": [
    "# str\n",
    "- 连接操作 和java一样，用“+”连接\n",
    "- 相乘操作 :相当于把原值复制要乘的份数\n",
    "- str字符串可以当做列表来使用（list）\n",
    "- 对str字符串进行切片操作，要是完全切[:],则切出来的列表和原字符串指向的是同一块内存\n",
    "  - 分段切则生成新的列表"
   ]
  },
  {
   "cell_type": "code",
   "execution_count": 8,
   "metadata": {},
   "outputs": [
    {
     "name": "stdout",
     "output_type": "stream",
     "text": [
      "i studying python jupyter\n",
      "roacle roacle roacle roacle roacle roacle roacle roacle roacle roacle \n",
      "python finshed three month\n",
      "1152804007008\n",
      "python fin\n",
      "1152804046448\n"
     ]
    }
   ],
   "source": [
    "#str相关案例\n",
    "s = \"i studying python\"\n",
    "s1 = \"jupyter\"\n",
    "print(s+\" \"+s1)\n",
    "s = \"roacle \"\n",
    "print(s*10)\n",
    "s = \"python finshed three month\"\n",
    "print(s)\n",
    "print(id(s))\n",
    "s2 = s[:10]\n",
    "print(s2)\n",
    "print(id(s2))"
   ]
  },
  {
   "cell_type": "code",
   "execution_count": 14,
   "metadata": {},
   "outputs": [
    {
     "name": "stdout",
     "output_type": "stream",
     "text": [
      "i love xiaohudie\n",
      "1152804049016\n",
      "love xiaohudie\n",
      "1152804093040\n"
     ]
    }
   ],
   "source": [
    "#分段切则生成新的列表，地址不相同\n",
    "s = \"i love xiaohudie\"\n",
    "print(s)\n",
    "print(id(s))\n",
    "s1 = s[2:]\n",
    "print(s1)\n",
    "print(id(s1))"
   ]
  },
  {
   "cell_type": "markdown",
   "metadata": {},
   "source": [
    "# str字符串 中汉字代表一个字符长度"
   ]
  },
  {
   "cell_type": "code",
   "execution_count": 3,
   "metadata": {},
   "outputs": [
    {
     "name": "stdout",
     "output_type": "stream",
     "text": [
      "16\n",
      "17\n"
     ]
    }
   ],
   "source": [
    "s1 = \"i love xiaohudie\"\n",
    "s2 = \"i 爱love xiaohudie\"\n",
    "print(len(s1))\n",
    "print(len(s2))"
   ]
  },
  {
   "cell_type": "markdown",
   "metadata": {},
   "source": [
    "# str 的split函数按照指定的字符返回结果，返回的结果为列表"
   ]
  },
  {
   "cell_type": "code",
   "execution_count": 6,
   "metadata": {},
   "outputs": [
    {
     "name": "stdout",
     "output_type": "stream",
     "text": [
      "['曾经小小少年', '如今风度翩翩', '年少有为']\n"
     ]
    }
   ],
   "source": [
    "#join()函数拼接字字符串\n",
    "ss = \"曾经小小少年*如今风度翩翩*年少有为\"\n",
    "print(ss.split('*'))"
   ]
  },
  {
   "cell_type": "markdown",
   "metadata": {},
   "source": [
    "# str值join函数\n",
    "- 作用拼接目录"
   ]
  },
  {
   "cell_type": "code",
   "execution_count": 7,
   "metadata": {},
   "outputs": [
    {
     "name": "stdout",
     "output_type": "stream",
     "text": [
      "曾经小小少年--->搞边可啊局--->点Q知啊--->真系噶\n"
     ]
    }
   ],
   "source": [
    "list1 = ['曾经小小少年','搞边可啊局','点Q知啊','真系噶']\n",
    "print('--->'.join(list1))"
   ]
  },
  {
   "cell_type": "code",
   "execution_count": 10,
   "metadata": {
    "scrolled": true
   },
   "outputs": [
    {
     "name": "stdout",
     "output_type": "stream",
     "text": [
      "Help on method_descriptor:\n",
      "\n",
      "join(self, iterable, /)\n",
      "    Concatenate any number of strings.\n",
      "    \n",
      "    The string whose method is called is inserted in between each given string.\n",
      "    The result is returned as a new string.\n",
      "    \n",
      "    Example: '.'.join(['ab', 'pq', 'rs']) -> 'ab.pq.rs'\n",
      "\n"
     ]
    }
   ],
   "source": [
    "help(str.join)"
   ]
  },
  {
   "cell_type": "markdown",
   "metadata": {},
   "source": [
    "# list 和tuple的切片区别\n",
    "- list的切片操作，全切和分段切都是生成新的列表\n",
    "- tuple 的切片操作，全切不会生成新的列表，相当于传址操作(即前后操作物理地址不变)，分段切生成新的元组\n",
    "- 案例如下"
   ]
  },
  {
   "cell_type": "code",
   "execution_count": 1,
   "metadata": {},
   "outputs": [
    {
     "name": "stdout",
     "output_type": "stream",
     "text": [
      "[1, 2, 3, 4, 5, 6]\n",
      "1228867007752\n",
      "[1, 2, 3, 4, 5, 6]\n",
      "1228867438536\n",
      "[3, 4, 5, 6]\n",
      "1228868087368\n"
     ]
    }
   ],
   "source": [
    "#list的全切和分段切操作\n",
    "l1 = [x for x in range(1,7)]\n",
    "print(l1)\n",
    "print(id(l1))\n",
    "l2 = l1[:]\n",
    "print(l2)\n",
    "print(id(l2))\n",
    "l3 = l1[2:]\n",
    "print(l3)\n",
    "print(id(l3))"
   ]
  },
  {
   "cell_type": "code",
   "execution_count": 2,
   "metadata": {},
   "outputs": [
    {
     "name": "stdout",
     "output_type": "stream",
     "text": [
      "(1, 2, 3, 4)\n",
      "1228867223208\n",
      "(1, 2, 3, 4)\n",
      "1228867223208\n",
      "(1, 2)\n",
      "1228867004168\n"
     ]
    }
   ],
   "source": [
    "#tuple的全切和分段切\n",
    "t1 = tuple([j for j in range(1,5)])\n",
    "print(t1)\n",
    "print(id(t1))\n",
    "t2 = t1[:]\n",
    "print(t2)\n",
    "print(id(t2))\n",
    "t3 = t1[:2]\n",
    "print(t3)\n",
    "print(id(t3))"
   ]
  },
  {
   "cell_type": "code",
   "execution_count": 17,
   "metadata": {},
   "outputs": [
    {
     "name": "stdout",
     "output_type": "stream",
     "text": [
      "[1, 2, 3, 4, 5]\n",
      "1152803181192\n",
      "[1, 2, 3, 4, 5]\n",
      "1152803084168\n",
      "[3, 4, 5]\n",
      "1152803142728\n"
     ]
    }
   ],
   "source": [
    "#证明列表分段切和全切的区别:  总结 ，列表全切和分段切，都是生成新的list\n",
    "l = [x for x in range(1,6)]\n",
    "print(l)\n",
    "print(id(l))\n",
    "l1 = l[:]\n",
    "print(l1)\n",
    "print(id(l1))\n",
    "l2 = l[2:]\n",
    "print(l2)\n",
    "print(id(l2))"
   ]
  },
  {
   "cell_type": "code",
   "execution_count": 8,
   "metadata": {},
   "outputs": [
    {
     "name": "stdout",
     "output_type": "stream",
     "text": [
      "Help on class tuple in module builtins:\n",
      "\n",
      "class tuple(object)\n",
      " |  tuple(iterable=(), /)\n",
      " |  \n",
      " |  Built-in immutable sequence.\n",
      " |  \n",
      " |  If no argument is given, the constructor returns an empty tuple.\n",
      " |  If iterable is specified the tuple is initialized from iterable's items.\n",
      " |  \n",
      " |  If the argument is a tuple, the return value is the same object.\n",
      " |  \n",
      " |  Methods defined here:\n",
      " |  \n",
      " |  __add__(self, value, /)\n",
      " |      Return self+value.\n",
      " |  \n",
      " |  __contains__(self, key, /)\n",
      " |      Return key in self.\n",
      " |  \n",
      " |  __eq__(self, value, /)\n",
      " |      Return self==value.\n",
      " |  \n",
      " |  __ge__(self, value, /)\n",
      " |      Return self>=value.\n",
      " |  \n",
      " |  __getattribute__(self, name, /)\n",
      " |      Return getattr(self, name).\n",
      " |  \n",
      " |  __getitem__(self, key, /)\n",
      " |      Return self[key].\n",
      " |  \n",
      " |  __getnewargs__(self, /)\n",
      " |  \n",
      " |  __gt__(self, value, /)\n",
      " |      Return self>value.\n",
      " |  \n",
      " |  __hash__(self, /)\n",
      " |      Return hash(self).\n",
      " |  \n",
      " |  __iter__(self, /)\n",
      " |      Implement iter(self).\n",
      " |  \n",
      " |  __le__(self, value, /)\n",
      " |      Return self<=value.\n",
      " |  \n",
      " |  __len__(self, /)\n",
      " |      Return len(self).\n",
      " |  \n",
      " |  __lt__(self, value, /)\n",
      " |      Return self<value.\n",
      " |  \n",
      " |  __mul__(self, value, /)\n",
      " |      Return self*value.\n",
      " |  \n",
      " |  __ne__(self, value, /)\n",
      " |      Return self!=value.\n",
      " |  \n",
      " |  __repr__(self, /)\n",
      " |      Return repr(self).\n",
      " |  \n",
      " |  __rmul__(self, value, /)\n",
      " |      Return value*self.\n",
      " |  \n",
      " |  count(self, value, /)\n",
      " |      Return number of occurrences of value.\n",
      " |  \n",
      " |  index(self, value, start=0, stop=9223372036854775807, /)\n",
      " |      Return first index of value.\n",
      " |      \n",
      " |      Raises ValueError if the value is not present.\n",
      " |  \n",
      " |  ----------------------------------------------------------------------\n",
      " |  Static methods defined here:\n",
      " |  \n",
      " |  __new__(*args, **kwargs) from builtins.type\n",
      " |      Create and return a new object.  See help(type) for accurate signature.\n",
      "\n"
     ]
    }
   ],
   "source": [
    "help(tuple)"
   ]
  },
  {
   "cell_type": "markdown",
   "metadata": {},
   "source": [
    "# tuple函数内涵"
   ]
  },
  {
   "cell_type": "code",
   "execution_count": 26,
   "metadata": {},
   "outputs": [
    {
     "name": "stdout",
     "output_type": "stream",
     "text": [
      "(1, 2, 3, 4, 5)\n"
     ]
    }
   ],
   "source": [
    "tt = tuple([j for j in range(1,6)])\n",
    "print(tt)"
   ]
  },
  {
   "cell_type": "markdown",
   "metadata": {},
   "source": [
    "# 一行代码实现list展列操作"
   ]
  },
  {
   "cell_type": "code",
   "execution_count": 1,
   "metadata": {},
   "outputs": [
    {
     "name": "stdout",
     "output_type": "stream",
     "text": [
      "[1, 2, 3, 4, 5, 6]\n"
     ]
    }
   ],
   "source": [
    "ll = [(1,2),(3,4),(5,6)]\n",
    "print([j for i in ll for j in i])"
   ]
  },
  {
   "cell_type": "markdown",
   "metadata": {},
   "source": [
    "# 列表的深浅拷贝\n",
    "- 列表的浅拷贝：外层传值操作，内层传址操作\n",
    "- 列表的深拷贝：外层传值操作，内层传值操作"
   ]
  },
  {
   "cell_type": "code",
   "execution_count": 2,
   "metadata": {},
   "outputs": [
    {
     "name": "stdout",
     "output_type": "stream",
     "text": [
      "[1, 2, 3, 4, ['点Q知啊', '搞边可啊局']]\n",
      "2679219635656\n",
      "拷贝后\n",
      "[1, 2, 3, 4, ['点Q知啊', '搞边可啊局']]\n",
      "2679219635720\n",
      "修改内层列表后\n",
      "[1, 2, 3, 4, ['怎么知道', '搞边可啊局']]\n",
      "2679219635656\n",
      "[1, 2, 3, 4, ['怎么知道', '搞边可啊局']]\n",
      "2679219635720\n"
     ]
    }
   ],
   "source": [
    "#浅拷贝操作\n",
    "lst = [1,2,3,4,['点Q知啊','搞边可啊局']]\n",
    "print(lst)\n",
    "print(id(lst))\n",
    "print(\"拷贝后\")\n",
    "lst1 = lst.copy()\n",
    "print(lst1)\n",
    "print(id(lst1))\n",
    "print(\"修改内层列表后\")\n",
    "lst1[4][0] = '怎么知道'\n",
    "print(lst)\n",
    "print(id(lst))\n",
    "print(lst1)\n",
    "print(id(lst1))"
   ]
  },
  {
   "cell_type": "code",
   "execution_count": 7,
   "metadata": {},
   "outputs": [
    {
     "name": "stdout",
     "output_type": "stream",
     "text": [
      "['python', 'java', 'oracle', ['jupyter notebook', 'eclipse', 'pl/sql']]\n",
      "2679221090440\n",
      "拷贝后\n",
      "['python', 'java', 'oracle', ['jupyter notebook', 'eclipse', 'pl/sql']]\n",
      "2679221090376\n",
      "修改后\n",
      "['python', 'java', 'oracle', ['jupyter notebook', 'eclipse', 'pl/sql']]\n",
      "2679221090440\n",
      "['python', 'java', 'oracle', ['pycharm', 'eclipse', 'pl/sql']]\n",
      "2679221090376\n"
     ]
    }
   ],
   "source": [
    "import copy\n",
    "#深拷贝操作\n",
    "ltt = ['python','java','oracle',['jupyter notebook','eclipse','pl/sql']]\n",
    "ltt1 = copy.deepcopy(ltt)\n",
    "print(ltt)\n",
    "print(id(ltt))\n",
    "print(\"拷贝后\")\n",
    "print(ltt1)\n",
    "print(id(ltt1))\n",
    "print(\"修改后\")\n",
    "ltt1[3][0] = 'pycharm'\n",
    "print(ltt)\n",
    "print(id(ltt))\n",
    "print(ltt1)\n",
    "print(id(ltt1))"
   ]
  },
  {
   "cell_type": "markdown",
   "metadata": {},
   "source": [
    "# 元组的修改，加双引号的修改(前提元组里面必须有可以修改的元素：-->列表)\n",
    "- 元组修改前后物理地址不改变"
   ]
  },
  {
   "cell_type": "code",
   "execution_count": 8,
   "metadata": {},
   "outputs": [
    {
     "name": "stdout",
     "output_type": "stream",
     "text": [
      "(1, 2, 3, ['曾经小小少年', '如今风度翩翩'])\n",
      "2679220992024\n",
      "修改元组之后\n",
      "(1, 2, 3, ['曾经小小少年', '已不再是少年'])\n",
      "2679220992024\n"
     ]
    }
   ],
   "source": [
    "tt = (1,2,3,['曾经小小少年','如今风度翩翩'])\n",
    "print(tt)\n",
    "print(id(tt))\n",
    "print(\"修改元组之后\")\n",
    "tt[3][1] = '已不再是少年'\n",
    "print(tt)\n",
    "print(id(tt))"
   ]
  },
  {
   "cell_type": "markdown",
   "metadata": {},
   "source": [
    "# python元组与字符串的区别\n",
    "- 1、元组和字符串都是有序的，不可修改的序列\n",
    "- 2、元组的元素可以是任意类型，字符串的元素真能是字符\n",
    "- 3、元组的长度可以任意，字符串元素的长度只能是1"
   ]
  },
  {
   "cell_type": "markdown",
   "metadata": {},
   "source": [
    "# list排序 \n",
    "- sort()函数\n",
    "- 默认从小到大\n",
    "- 要实现从大到小排序：sort(reverse=true)"
   ]
  },
  {
   "cell_type": "code",
   "execution_count": 11,
   "metadata": {},
   "outputs": [
    {
     "name": "stdout",
     "output_type": "stream",
     "text": [
      "2679221090632\n",
      "[1, 2, 3, 4, 7, 8, 9]\n",
      "从大到小\n",
      "[9, 8, 7, 4, 3, 2, 1]\n",
      "2679221090632\n"
     ]
    }
   ],
   "source": [
    "lsi = [1,7,8,9,4,3,2]\n",
    "lsi.sort()\n",
    "print(id(lsi))\n",
    "print(lsi)\n",
    "print(\"从大到小\")\n",
    "lsi.sort(reverse=True)\n",
    "print(lsi)\n",
    "print(id(lsi))"
   ]
  },
  {
   "cell_type": "code",
   "execution_count": 12,
   "metadata": {},
   "outputs": [
    {
     "name": "stdout",
     "output_type": "stream",
     "text": [
      "Help on class dict in module builtins:\n",
      "\n",
      "class dict(object)\n",
      " |  dict() -> new empty dictionary\n",
      " |  dict(mapping) -> new dictionary initialized from a mapping object's\n",
      " |      (key, value) pairs\n",
      " |  dict(iterable) -> new dictionary initialized as if via:\n",
      " |      d = {}\n",
      " |      for k, v in iterable:\n",
      " |          d[k] = v\n",
      " |  dict(**kwargs) -> new dictionary initialized with the name=value pairs\n",
      " |      in the keyword argument list.  For example:  dict(one=1, two=2)\n",
      " |  \n",
      " |  Methods defined here:\n",
      " |  \n",
      " |  __contains__(self, key, /)\n",
      " |      True if the dictionary has the specified key, else False.\n",
      " |  \n",
      " |  __delitem__(self, key, /)\n",
      " |      Delete self[key].\n",
      " |  \n",
      " |  __eq__(self, value, /)\n",
      " |      Return self==value.\n",
      " |  \n",
      " |  __ge__(self, value, /)\n",
      " |      Return self>=value.\n",
      " |  \n",
      " |  __getattribute__(self, name, /)\n",
      " |      Return getattr(self, name).\n",
      " |  \n",
      " |  __getitem__(...)\n",
      " |      x.__getitem__(y) <==> x[y]\n",
      " |  \n",
      " |  __gt__(self, value, /)\n",
      " |      Return self>value.\n",
      " |  \n",
      " |  __init__(self, /, *args, **kwargs)\n",
      " |      Initialize self.  See help(type(self)) for accurate signature.\n",
      " |  \n",
      " |  __iter__(self, /)\n",
      " |      Implement iter(self).\n",
      " |  \n",
      " |  __le__(self, value, /)\n",
      " |      Return self<=value.\n",
      " |  \n",
      " |  __len__(self, /)\n",
      " |      Return len(self).\n",
      " |  \n",
      " |  __lt__(self, value, /)\n",
      " |      Return self<value.\n",
      " |  \n",
      " |  __ne__(self, value, /)\n",
      " |      Return self!=value.\n",
      " |  \n",
      " |  __repr__(self, /)\n",
      " |      Return repr(self).\n",
      " |  \n",
      " |  __setitem__(self, key, value, /)\n",
      " |      Set self[key] to value.\n",
      " |  \n",
      " |  __sizeof__(...)\n",
      " |      D.__sizeof__() -> size of D in memory, in bytes\n",
      " |  \n",
      " |  clear(...)\n",
      " |      D.clear() -> None.  Remove all items from D.\n",
      " |  \n",
      " |  copy(...)\n",
      " |      D.copy() -> a shallow copy of D\n",
      " |  \n",
      " |  get(self, key, default=None, /)\n",
      " |      Return the value for key if key is in the dictionary, else default.\n",
      " |  \n",
      " |  items(...)\n",
      " |      D.items() -> a set-like object providing a view on D's items\n",
      " |  \n",
      " |  keys(...)\n",
      " |      D.keys() -> a set-like object providing a view on D's keys\n",
      " |  \n",
      " |  pop(...)\n",
      " |      D.pop(k[,d]) -> v, remove specified key and return the corresponding value.\n",
      " |      If key is not found, d is returned if given, otherwise KeyError is raised\n",
      " |  \n",
      " |  popitem(...)\n",
      " |      D.popitem() -> (k, v), remove and return some (key, value) pair as a\n",
      " |      2-tuple; but raise KeyError if D is empty.\n",
      " |  \n",
      " |  setdefault(self, key, default=None, /)\n",
      " |      Insert key with a value of default if key is not in the dictionary.\n",
      " |      \n",
      " |      Return the value for key if key is in the dictionary, else default.\n",
      " |  \n",
      " |  update(...)\n",
      " |      D.update([E, ]**F) -> None.  Update D from dict/iterable E and F.\n",
      " |      If E is present and has a .keys() method, then does:  for k in E: D[k] = E[k]\n",
      " |      If E is present and lacks a .keys() method, then does:  for k, v in E: D[k] = v\n",
      " |      In either case, this is followed by: for k in F:  D[k] = F[k]\n",
      " |  \n",
      " |  values(...)\n",
      " |      D.values() -> an object providing a view on D's values\n",
      " |  \n",
      " |  ----------------------------------------------------------------------\n",
      " |  Class methods defined here:\n",
      " |  \n",
      " |  fromkeys(iterable, value=None, /) from builtins.type\n",
      " |      Create a new dictionary with keys from iterable and values set to value.\n",
      " |  \n",
      " |  ----------------------------------------------------------------------\n",
      " |  Static methods defined here:\n",
      " |  \n",
      " |  __new__(*args, **kwargs) from builtins.type\n",
      " |      Create and return a new object.  See help(type) for accurate signature.\n",
      " |  \n",
      " |  ----------------------------------------------------------------------\n",
      " |  Data and other attributes defined here:\n",
      " |  \n",
      " |  __hash__ = None\n",
      "\n"
     ]
    }
   ],
   "source": [
    "help(dict)"
   ]
  },
  {
   "cell_type": "markdown",
   "metadata": {},
   "source": [
    "# dict 字典\n",
    "- fromkeys()函数，可以由列表创建字典\n",
    "- fromkeys()中的函数默认填list不填值，则根据list里面的元素创建键，值是默认None\n",
    "- fromkeys()中的函数如果天list,和values值，则以list元素创建键，所有的值都和values相同"
   ]
  },
  {
   "cell_type": "code",
   "execution_count": 14,
   "metadata": {},
   "outputs": [
    {
     "name": "stdout",
     "output_type": "stream",
     "text": [
      "{'a': None, 'b': None, 'c': None}\n",
      "{'a': 3, 'b': 3, 'c': 3}\n"
     ]
    }
   ],
   "source": [
    "lii = ['a','b','c']\n",
    "dict1 = {}.fromkeys(lii)\n",
    "print(dict1)\n",
    "dict2 = {}.fromkeys(lii,3)\n",
    "print(dict2)"
   ]
  },
  {
   "cell_type": "markdown",
   "metadata": {},
   "source": [
    "# 字符串str函数之内置函数center()\n",
    "- 将字符串居中显示，fillchar两遍填充字符默认为空格，可以指定"
   ]
  },
  {
   "cell_type": "code",
   "execution_count": 7,
   "metadata": {},
   "outputs": [
    {
     "name": "stdout",
     "output_type": "stream",
     "text": [
      "-------------i love taotao--------------\n"
     ]
    }
   ],
   "source": [
    "s1 = \"i love taotao\"\n",
    "print(s1.center(40,\"-\"))"
   ]
  },
  {
   "cell_type": "code",
   "execution_count": 9,
   "metadata": {},
   "outputs": [
    {
     "name": "stdout",
     "output_type": "stream",
     "text": [
      "Help on method_descriptor:\n",
      "\n",
      "center(self, width, fillchar=' ', /)\n",
      "    Return a centered string of length width.\n",
      "    \n",
      "    Padding is done using the specified fill character (default is a space).\n",
      "\n"
     ]
    }
   ],
   "source": [
    "help(str.center)"
   ]
  },
  {
   "cell_type": "markdown",
   "metadata": {},
   "source": [
    "# str函数之内置函数strip rstrip lstrip\n",
    "- strip函数表示去除字符两边的空格\n",
    "- rstrip表示出去右边指定的字符\n",
    "- lstrip表示去除左边的指定字符"
   ]
  },
  {
   "cell_type": "code",
   "execution_count": 5,
   "metadata": {},
   "outputs": [
    {
     "name": "stdout",
     "output_type": "stream",
     "text": [
      "我是空格但我被去除啦i love xiaohudie我没有空格\n"
     ]
    }
   ],
   "source": [
    "s = \"  i love xiaohudie    \"\n",
    "print(\"我是空格但我被去除啦\"+s.strip()+\"我没有空格\")"
   ]
  },
  {
   "cell_type": "code",
   "execution_count": 6,
   "metadata": {},
   "outputs": [
    {
     "name": "stdout",
     "output_type": "stream",
     "text": [
      "我是lstrip函数啊，所以星号不要\n"
     ]
    }
   ],
   "source": [
    "s = \"****我是lstrip函数啊，所以星号不要\"\n",
    "print(s.lstrip(\"*\"))"
   ]
  },
  {
   "cell_type": "code",
   "execution_count": 7,
   "metadata": {},
   "outputs": [
    {
     "name": "stdout",
     "output_type": "stream",
     "text": [
      "我是rstrip函数，所以右边的减号也不要\n"
     ]
    }
   ],
   "source": [
    "s = \"我是rstrip函数，所以右边的减号也不要--------\"\n",
    "print(s.strip(\"-\"))"
   ]
  },
  {
   "cell_type": "code",
   "execution_count": 15,
   "metadata": {},
   "outputs": [
    {
     "name": "stdout",
     "output_type": "stream",
     "text": [
      "{'java': 1, 'Oracle': 2, 'Python': 3}\n",
      "1598835439728\n",
      "{'java': 1, 'Oracle': 2, 'Python': 3}\n",
      "1598835439872\n"
     ]
    }
   ],
   "source": [
    "dd = {\"java\":1,\"Oracle\":2,\"Python\":3}\n",
    "print(dd)\n",
    "print(id(dd))\n",
    "print(dd.copy())\n",
    "print(id(dd.copy()))"
   ]
  },
  {
   "cell_type": "markdown",
   "metadata": {},
   "source": [
    " # 字典的遍历"
   ]
  },
  {
   "cell_type": "code",
   "execution_count": 17,
   "metadata": {},
   "outputs": [
    {
     "name": "stdout",
     "output_type": "stream",
     "text": [
      "Oracle --- 1\n",
      "Python --- 2\n",
      "Java --- 3\n",
      "dict_items([('Oracle', 1), ('Python', 2), ('Java', 3)])\n"
     ]
    }
   ],
   "source": [
    "ddd = {\"Oracle\":1,\"Python\":2,\"Java\":3}\n",
    "for k,v in ddd.items():\n",
    "    print(k,\"---\",v)\n",
    "print(ddd.items())"
   ]
  },
  {
   "cell_type": "markdown",
   "metadata": {},
   "source": [
    "# 字典的尾部添加\n",
    "- setdefault返回为添加的值"
   ]
  },
  {
   "cell_type": "code",
   "execution_count": 21,
   "metadata": {},
   "outputs": [
    {
     "name": "stdout",
     "output_type": "stream",
     "text": [
      "4\n",
      "{'a': 1, 'b': 2, 'c': 3, 'd': 4}\n"
     ]
    }
   ],
   "source": [
    "dict1 = {\"a\":1,\"b\":2,\"c\":3}\n",
    "print(dict1.setdefault(\"d\",4))\n",
    "print(dict1)"
   ]
  },
  {
   "cell_type": "markdown",
   "metadata": {},
   "source": [
    "# 字典的更新操作\n",
    "- update里面传的是字典格式的参数，字典里面可以传多个参数    ！！！！字典 字典  字典\n",
    "- update；里面有的值更新，若参数里面传的元素字典中没有，则默认为尾部追加\n",
    " - update返回值为空"
   ]
  },
  {
   "cell_type": "code",
   "execution_count": 27,
   "metadata": {},
   "outputs": [
    {
     "name": "stdout",
     "output_type": "stream",
     "text": [
      "None\n",
      "{'a': 1, 'b': 2, 'c': 'python'}\n"
     ]
    }
   ],
   "source": [
    "dict1 = {\"a\":1,\"b\":2,\"c\":3}\n",
    "print(dict1.update({\"c\":\"python\"}))\n",
    "\n",
    "print(dict1)"
   ]
  },
  {
   "cell_type": "markdown",
   "metadata": {},
   "source": [
    "# set 的add添加\n",
    "- 尾部添加"
   ]
  },
  {
   "cell_type": "code",
   "execution_count": 30,
   "metadata": {},
   "outputs": [
    {
     "name": "stdout",
     "output_type": "stream",
     "text": [
      "{1, 2, 3, 4, 6666}\n"
     ]
    }
   ],
   "source": [
    "set1 = {1,2,3,4}\n",
    "set1.add(6666)\n",
    "print(set1)"
   ]
  },
  {
   "cell_type": "code",
   "execution_count": 31,
   "metadata": {},
   "outputs": [
    {
     "name": "stdout",
     "output_type": "stream",
     "text": [
      "Help on class set in module builtins:\n",
      "\n",
      "class set(object)\n",
      " |  set() -> new empty set object\n",
      " |  set(iterable) -> new set object\n",
      " |  \n",
      " |  Build an unordered collection of unique elements.\n",
      " |  \n",
      " |  Methods defined here:\n",
      " |  \n",
      " |  __and__(self, value, /)\n",
      " |      Return self&value.\n",
      " |  \n",
      " |  __contains__(...)\n",
      " |      x.__contains__(y) <==> y in x.\n",
      " |  \n",
      " |  __eq__(self, value, /)\n",
      " |      Return self==value.\n",
      " |  \n",
      " |  __ge__(self, value, /)\n",
      " |      Return self>=value.\n",
      " |  \n",
      " |  __getattribute__(self, name, /)\n",
      " |      Return getattr(self, name).\n",
      " |  \n",
      " |  __gt__(self, value, /)\n",
      " |      Return self>value.\n",
      " |  \n",
      " |  __iand__(self, value, /)\n",
      " |      Return self&=value.\n",
      " |  \n",
      " |  __init__(self, /, *args, **kwargs)\n",
      " |      Initialize self.  See help(type(self)) for accurate signature.\n",
      " |  \n",
      " |  __ior__(self, value, /)\n",
      " |      Return self|=value.\n",
      " |  \n",
      " |  __isub__(self, value, /)\n",
      " |      Return self-=value.\n",
      " |  \n",
      " |  __iter__(self, /)\n",
      " |      Implement iter(self).\n",
      " |  \n",
      " |  __ixor__(self, value, /)\n",
      " |      Return self^=value.\n",
      " |  \n",
      " |  __le__(self, value, /)\n",
      " |      Return self<=value.\n",
      " |  \n",
      " |  __len__(self, /)\n",
      " |      Return len(self).\n",
      " |  \n",
      " |  __lt__(self, value, /)\n",
      " |      Return self<value.\n",
      " |  \n",
      " |  __ne__(self, value, /)\n",
      " |      Return self!=value.\n",
      " |  \n",
      " |  __or__(self, value, /)\n",
      " |      Return self|value.\n",
      " |  \n",
      " |  __rand__(self, value, /)\n",
      " |      Return value&self.\n",
      " |  \n",
      " |  __reduce__(...)\n",
      " |      Return state information for pickling.\n",
      " |  \n",
      " |  __repr__(self, /)\n",
      " |      Return repr(self).\n",
      " |  \n",
      " |  __ror__(self, value, /)\n",
      " |      Return value|self.\n",
      " |  \n",
      " |  __rsub__(self, value, /)\n",
      " |      Return value-self.\n",
      " |  \n",
      " |  __rxor__(self, value, /)\n",
      " |      Return value^self.\n",
      " |  \n",
      " |  __sizeof__(...)\n",
      " |      S.__sizeof__() -> size of S in memory, in bytes\n",
      " |  \n",
      " |  __sub__(self, value, /)\n",
      " |      Return self-value.\n",
      " |  \n",
      " |  __xor__(self, value, /)\n",
      " |      Return self^value.\n",
      " |  \n",
      " |  add(...)\n",
      " |      Add an element to a set.\n",
      " |      \n",
      " |      This has no effect if the element is already present.\n",
      " |  \n",
      " |  clear(...)\n",
      " |      Remove all elements from this set.\n",
      " |  \n",
      " |  copy(...)\n",
      " |      Return a shallow copy of a set.\n",
      " |  \n",
      " |  difference(...)\n",
      " |      Return the difference of two or more sets as a new set.\n",
      " |      \n",
      " |      (i.e. all elements that are in this set but not the others.)\n",
      " |  \n",
      " |  difference_update(...)\n",
      " |      Remove all elements of another set from this set.\n",
      " |  \n",
      " |  discard(...)\n",
      " |      Remove an element from a set if it is a member.\n",
      " |      \n",
      " |      If the element is not a member, do nothing.\n",
      " |  \n",
      " |  intersection(...)\n",
      " |      Return the intersection of two sets as a new set.\n",
      " |      \n",
      " |      (i.e. all elements that are in both sets.)\n",
      " |  \n",
      " |  intersection_update(...)\n",
      " |      Update a set with the intersection of itself and another.\n",
      " |  \n",
      " |  isdisjoint(...)\n",
      " |      Return True if two sets have a null intersection.\n",
      " |  \n",
      " |  issubset(...)\n",
      " |      Report whether another set contains this set.\n",
      " |  \n",
      " |  issuperset(...)\n",
      " |      Report whether this set contains another set.\n",
      " |  \n",
      " |  pop(...)\n",
      " |      Remove and return an arbitrary set element.\n",
      " |      Raises KeyError if the set is empty.\n",
      " |  \n",
      " |  remove(...)\n",
      " |      Remove an element from a set; it must be a member.\n",
      " |      \n",
      " |      If the element is not a member, raise a KeyError.\n",
      " |  \n",
      " |  symmetric_difference(...)\n",
      " |      Return the symmetric difference of two sets as a new set.\n",
      " |      \n",
      " |      (i.e. all elements that are in exactly one of the sets.)\n",
      " |  \n",
      " |  symmetric_difference_update(...)\n",
      " |      Update a set with the symmetric difference of itself and another.\n",
      " |  \n",
      " |  union(...)\n",
      " |      Return the union of sets as a new set.\n",
      " |      \n",
      " |      (i.e. all elements that are in either set.)\n",
      " |  \n",
      " |  update(...)\n",
      " |      Update a set with the union of itself and others.\n",
      " |  \n",
      " |  ----------------------------------------------------------------------\n",
      " |  Static methods defined here:\n",
      " |  \n",
      " |  __new__(*args, **kwargs) from builtins.type\n",
      " |      Create and return a new object.  See help(type) for accurate signature.\n",
      " |  \n",
      " |  ----------------------------------------------------------------------\n",
      " |  Data and other attributes defined here:\n",
      " |  \n",
      " |  __hash__ = None\n",
      "\n"
     ]
    }
   ],
   "source": [
    "help(set)"
   ]
  },
  {
   "cell_type": "markdown",
   "metadata": {},
   "source": [
    "# discard和remove的区别\n",
    "- discard移除集合中指定的元素，有就移除，没有什么也不做，不会报错\n",
    "- remove：元素中必须要包含要移除的元素，否则就报错"
   ]
  },
  {
   "cell_type": "code",
   "execution_count": 33,
   "metadata": {},
   "outputs": [
    {
     "name": "stdout",
     "output_type": "stream",
     "text": [
      "{1, 3, 4}\n",
      "{1, 4}\n"
     ]
    }
   ],
   "source": [
    "ss = {1,2,3,4}\n",
    "ss.remove(2)\n",
    "print(ss)\n",
    "ss.discard(3)\n",
    "print(ss)\n",
    "ss.discard(3)"
   ]
  },
  {
   "cell_type": "markdown",
   "metadata": {},
   "source": [
    "# set中的difference和difference_update的区别\n",
    "- difference区两个元素的差集，返回新的集合（类似于浅拷贝）\n",
    "- difference_update求两个元素的差集之后，结果覆盖原来的集合,返回None"
   ]
  },
  {
   "cell_type": "code",
   "execution_count": 35,
   "metadata": {},
   "outputs": [
    {
     "name": "stdout",
     "output_type": "stream",
     "text": [
      "{1, 3}\n",
      "1598836077288\n",
      "1598836077960\n"
     ]
    }
   ],
   "source": [
    "st1 = {1,2,3,4}\n",
    "st2 = {2,4,7,8}\n",
    "print(st1.difference(st2))\n",
    "print(id(st1))\n",
    "print(id(st1.difference(st2)))"
   ]
  },
  {
   "cell_type": "code",
   "execution_count": 37,
   "metadata": {},
   "outputs": [
    {
     "name": "stdout",
     "output_type": "stream",
     "text": [
      "None\n",
      "{1, 3}\n"
     ]
    }
   ],
   "source": [
    "st1 = {1,2,3,4}\n",
    "st2 = {2,4,7,8}\n",
    "print(st1.difference_update(st2))#直接返回差集，就是更新过的差集\n",
    "print(st1)"
   ]
  },
  {
   "cell_type": "code",
   "execution_count": null,
   "metadata": {},
   "outputs": [],
   "source": []
  },
  {
   "cell_type": "code",
   "execution_count": null,
   "metadata": {},
   "outputs": [],
   "source": []
  },
  {
   "cell_type": "code",
   "execution_count": null,
   "metadata": {},
   "outputs": [],
   "source": []
  },
  {
   "cell_type": "code",
   "execution_count": null,
   "metadata": {},
   "outputs": [],
   "source": []
  },
  {
   "cell_type": "code",
   "execution_count": null,
   "metadata": {},
   "outputs": [],
   "source": []
  },
  {
   "cell_type": "code",
   "execution_count": null,
   "metadata": {},
   "outputs": [],
   "source": []
  },
  {
   "cell_type": "code",
   "execution_count": null,
   "metadata": {},
   "outputs": [],
   "source": []
  },
  {
   "cell_type": "code",
   "execution_count": null,
   "metadata": {},
   "outputs": [],
   "source": []
  },
  {
   "cell_type": "code",
   "execution_count": null,
   "metadata": {},
   "outputs": [],
   "source": []
  },
  {
   "cell_type": "code",
   "execution_count": null,
   "metadata": {},
   "outputs": [],
   "source": []
  },
  {
   "cell_type": "code",
   "execution_count": null,
   "metadata": {},
   "outputs": [],
   "source": []
  },
  {
   "cell_type": "code",
   "execution_count": null,
   "metadata": {},
   "outputs": [],
   "source": []
  },
  {
   "cell_type": "code",
   "execution_count": null,
   "metadata": {},
   "outputs": [],
   "source": []
  },
  {
   "cell_type": "code",
   "execution_count": null,
   "metadata": {},
   "outputs": [],
   "source": []
  },
  {
   "cell_type": "code",
   "execution_count": null,
   "metadata": {},
   "outputs": [],
   "source": []
  }
 ],
 "metadata": {
  "kernelspec": {
   "display_name": "Python 3",
   "language": "python",
   "name": "python3"
  },
  "language_info": {
   "codemirror_mode": {
    "name": "ipython",
    "version": 3
   },
   "file_extension": ".py",
   "mimetype": "text/x-python",
   "name": "python",
   "nbconvert_exporter": "python",
   "pygments_lexer": "ipython3",
   "version": "3.7.0"
  }
 },
 "nbformat": 4,
 "nbformat_minor": 2
}
