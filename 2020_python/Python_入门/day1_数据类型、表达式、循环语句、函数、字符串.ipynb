{
 "cells": [
  {
   "cell_type": "markdown",
   "metadata": {},
   "source": [
    "# 二进制\n",
    "- 以0b开头的0101代码\n",
    "\n",
    "# 八进制\n",
    "\n",
    "- 以0o开头的\n",
    "\n",
    "# 十六进制\n",
    "- 以0x开头"
   ]
  },
  {
   "cell_type": "code",
   "execution_count": 4,
   "metadata": {},
   "outputs": [
    {
     "name": "stdout",
     "output_type": "stream",
     "text": [
      "14\n",
      "15\n",
      "65535\n"
     ]
    }
   ],
   "source": [
    "s = 0b1110\n",
    "print(s)\n",
    "s1 = 0o17\n",
    "print(s1)\n",
    "s2 = 0xffff\n",
    "print(s2)"
   ]
  },
  {
   "cell_type": "markdown",
   "metadata": {},
   "source": [
    "# 科学计数法\n",
    "- 定义:定义和数学上的定义一致:https://baike.baidu.com/item/%E7%A7%91%E5%AD%A6%E8%AE%B0%E6%95%B0%E6%B3%95/1612882?fromtitle=%E7%A7%91%E5%AD%A6%E8%AE%A1%E6%95%B0%E6%B3%95&fromid=756685&fr=aladdin\n",
    "- 写法就是e后面跟整数用来表示10的指数\n"
   ]
  },
  {
   "cell_type": "code",
   "execution_count": 8,
   "metadata": {},
   "outputs": [
    {
     "name": "stdout",
     "output_type": "stream",
     "text": [
      "170.0\n",
      "0.2\n",
      "200.0\n"
     ]
    }
   ],
   "source": [
    "height = 1.70e2\n",
    "print(height)\n",
    "a = .2\n",
    "print(a)\n",
    "a1 = .2e3\n",
    "print(a1)"
   ]
  },
  {
   "cell_type": "markdown",
   "metadata": {},
   "source": [
    "# 复数 complex\n",
    "- 与数学上的定义一致\n",
    "- 有实部虚部组成，虚部用j/J表示\n",
    "- 3 + 4j\n",
    "- 4j"
   ]
  },
  {
   "cell_type": "markdown",
   "metadata": {},
   "source": [
    "# 布尔值\n",
    "- 布尔值就是用来表示真假的值\n",
    "- 只有两个值 True/False\n",
    "- 在python中布尔值可以当数字使用，True=1,False=0"
   ]
  },
  {
   "cell_type": "code",
   "execution_count": 14,
   "metadata": {},
   "outputs": [
    {
     "name": "stdout",
     "output_type": "stream",
     "text": [
      "19\n",
      "18\n",
      "18\n",
      "0\n",
      "-1是负数\n"
     ]
    }
   ],
   "source": [
    "#布尔值当做数字来使用\n",
    "age = 18 + True\n",
    "print(age)\n",
    "age = 18 + False\n",
    "print(age)\n",
    "age1 = 18 * True\n",
    "age2 = 18 * False\n",
    "print(age1)\n",
    "print(age2)\n",
    "#当然数字也可以当布尔值使用\n",
    "age = -1\n",
    "if age:\n",
    "    print(\"-1是负数\")\n",
    "else:\n",
    "    print(\"-1是正数\")"
   ]
  },
  {
   "cell_type": "markdown",
   "metadata": {},
   "source": [
    "# 字符串\n",
    "- 形式上引号引起来的一段内容\n",
    "- 引号包括\n",
    "    - 单引号\n",
    "    - 双引号\n",
    "    - 三引号，可以用来表示多行信息\n",
    "- 单双引号含义一致(只能表示一行信息)"
   ]
  },
  {
   "cell_type": "code",
   "execution_count": 18,
   "metadata": {},
   "outputs": [
    {
     "name": "stdout",
     "output_type": "stream",
     "text": [
      "\n",
      "世界上最宽广的是大海\n",
      "比大海更宽广的是天空\n",
      "比天空更宽广的是男人的情怀！\n",
      "\n",
      "\n",
      "世界上最宽广的是大海\n",
      "比大海更宽广的是天空\n",
      "比天空更宽广的是男人的情怀！\n",
      "\n"
     ]
    }
   ],
   "source": [
    "#三引号\n",
    "str =  \"\"\"\n",
    "世界上最宽广的是大海\n",
    "比大海更宽广的是天空\n",
    "比天空更宽广的是男人的情怀！\n",
    "\"\"\"\n",
    "str1 = '''\n",
    "世界上最宽广的是大海\n",
    "比大海更宽广的是天空\n",
    "比天空更宽广的是男人的情怀！\n",
    "'''\n",
    "print(str)\n",
    "print(str1)"
   ]
  },
  {
   "cell_type": "markdown",
   "metadata": {},
   "source": [
    "# None类型\n",
    "- 表示没有\n",
    "- 比如返回，用来表示返回一个空"
   ]
  },
  {
   "cell_type": "markdown",
   "metadata": {},
   "source": [
    "# 表达式\n",
    "- 由一个或几个数字或者变量或者运算符合成的一行代码\n",
    "- 通常返回一个结果\n",
    "\n",
    "# 运算符\n",
    "- 由一个以上的值经过一系列的运算得到的新值得过程叫做运算\n",
    "- 用来操作运算的符号叫做运算符\n",
    "- 运算符的分类\n",
    "    - 算数运算符\n",
    "    - 比较或者关系运算符\n",
    "    - 赋值运算符\n",
    "    - 逻辑运算符\n",
    "    - 位运算\n",
    "    - 成员运算符\n",
    "    - 身份运算符\n",
    "    \n",
    "   "
   ]
  },
  {
   "cell_type": "markdown",
   "metadata": {},
   "source": [
    "## 算数运算符\n",
    "- 用来进行算数运算的符号\n",
    "- 通常用来表示加减乘除\n",
    "- python没有自增自减运算符"
   ]
  },
  {
   "cell_type": "code",
   "execution_count": 2,
   "metadata": {},
   "outputs": [
    {
     "name": "stdout",
     "output_type": "stream",
     "text": [
      "-3\n",
      "-1\n"
     ]
    }
   ],
   "source": [
    "a = 9 % -4\n",
    "print(a)\n",
    "b = 9%-2\n",
    "print(b)"
   ]
  },
  {
   "cell_type": "markdown",
   "metadata": {},
   "source": [
    "## 比较运算符\n",
    "- 对两个内容进行比较的运算符\n",
    "- 结果一定是个布尔值，即True/False\n"
   ]
  },
  {
   "cell_type": "code",
   "execution_count": 25,
   "metadata": {},
   "outputs": [
    {
     "name": "stdout",
     "output_type": "stream",
     "text": [
      "False\n",
      "True\n"
     ]
    }
   ],
   "source": [
    "# 等于 ==\n",
    "a = 3 == 4\n",
    "print(a)\n",
    "# 不等于 !=\n",
    "a = 3 != 4\n",
    "print(a)"
   ]
  },
  {
   "cell_type": "markdown",
   "metadata": {},
   "source": [
    "## 赋值运算符\n",
    "- 把一个值放到变量里面去"
   ]
  },
  {
   "cell_type": "code",
   "execution_count": 27,
   "metadata": {},
   "outputs": [
    {
     "name": "stdout",
     "output_type": "stream",
     "text": [
      "15\n",
      "18\n"
     ]
    }
   ],
   "source": [
    "aa = 10\n",
    "aa = aa + 5\n",
    "print(aa)\n",
    "aa += 3\n",
    "print(aa)\n",
    "# 所有的数学运算符都可以缩写\n",
    "# -= ， *= ，/= , //= , %= ,**=都是缩写形式\n",
    "# python里面没有 ++ ， --"
   ]
  },
  {
   "cell_type": "markdown",
   "metadata": {},
   "source": [
    "## 逻辑运算符\n",
    "- 对布尔类型变量或者值进行运算的符号\n",
    "- and :逻辑与（当做*号）\n",
    "- or  ：逻辑或（当做+号）\n",
    "- not ：逻辑非（取反）\n",
    "- python里面的逻辑运算没有异或\n",
    "- 逻辑运算的短路问题\n",
    "    - 逻辑运算式，按照运算顺序计算，一旦能够确定整个式子未来的值，则不在进行计算，直接返回"
   ]
  },
  {
   "cell_type": "code",
   "execution_count": 28,
   "metadata": {},
   "outputs": [
    {
     "name": "stdout",
     "output_type": "stream",
     "text": [
      "True\n"
     ]
    }
   ],
   "source": [
    "# 短路问题案例1\n",
    "a = True\n",
    "b = True\n",
    "c = False\n",
    "aa = a or b and (a and b)\n",
    "print(aa)"
   ]
  },
  {
   "cell_type": "code",
   "execution_count": 4,
   "metadata": {},
   "outputs": [
    {
     "name": "stdout",
     "output_type": "stream",
     "text": [
      "a\n",
      "b\n",
      "AAAAAA\n",
      "********************\n",
      "a\n",
      "BBBBBB\n"
     ]
    }
   ],
   "source": [
    "# 短路问题案例2\n",
    "def a():\n",
    "    print(\"a\")\n",
    "    return True\n",
    "def b():\n",
    "    print(\"b\")\n",
    "    return True\n",
    "if a() and b():\n",
    "    print(\"AAAAAA\")\n",
    "print(\"*\"*20)\n",
    "if a() or b():\n",
    "    print(\"BBBBBB\")"
   ]
  },
  {
   "cell_type": "markdown",
   "metadata": {},
   "source": [
    "## 成员运算符\n",
    "- 用来检测一个值或者变量是否在某个集合里面\n",
    "- in：成员运算符\n",
    "- not in ：不在这个里面"
   ]
  },
  {
   "cell_type": "code",
   "execution_count": 34,
   "metadata": {},
   "outputs": [
    {
     "name": "stdout",
     "output_type": "stream",
     "text": [
      "[1, 2, 3, 4, 5, 6, 7, 8, 9]\n",
      "True\n",
      "False\n"
     ]
    }
   ],
   "source": [
    "# 案例\n",
    "l = list(range(1,10))\n",
    "print(l)\n",
    "a = 6\n",
    "aa = a in l\n",
    "print(aa)\n",
    "aa = a not in l\n",
    "print(aa)"
   ]
  },
  {
   "cell_type": "markdown",
   "metadata": {},
   "source": [
    "## 身份运算符\n",
    "- 用来确定两个变量是否是同一个变量\n",
    "- is 是\n",
    "- is not 不是\n",
    "\n",
    "- 对整数N/n[-5,256],解释器对他们做了单独的处理，放进了固定的内存中，不因你每次运行而变化"
   ]
  },
  {
   "cell_type": "code",
   "execution_count": 54,
   "metadata": {},
   "outputs": [
    {
     "name": "stdout",
     "output_type": "stream",
     "text": [
      "False\n",
      "2313710078256\n",
      "2313710078160\n",
      "True\n",
      "140714040032096\n",
      "140714040032096\n"
     ]
    }
   ],
   "source": [
    "a = 10044444\n",
    "b = 10044444\n",
    "cc = a is b\n",
    "print(cc)\n",
    "print(id(a))\n",
    "print(id(b))\n",
    "# 小的内存不在重新创建，直接用新创建的变量指向老的，a和b的指针相同\n",
    "a = 100\n",
    "b = 100\n",
    "cc = a is b\n",
    "print(cc)\n",
    "print(id(a))\n",
    "print(id(b))"
   ]
  },
  {
   "cell_type": "markdown",
   "metadata": {},
   "source": [
    "## 运算符的优先级问题\n",
    "- 小括号具有最高优先级\n",
    "        **指数（最高优先级）\n",
    "        ~+- 按位翻转，一元加号和减号(最后两个的方法名为+@和-@)\n",
    "        * / % // 乘，除，取模，取整\n",
    "        加法减法\n",
    "        >> << 右移，左移运算符\n",
    "        & 位 and\n",
    "        ^ | 位运算符\n",
    "        <= < > >=  等于运算符\n",
    "        = %= /= //= -= += *= **= 赋值运算符\n",
    "        is is not 身份运算符\n",
    "        in not in 成员运算符\n",
    "        not or and 逻辑运算符"
   ]
  },
  {
   "cell_type": "markdown",
   "metadata": {},
   "source": [
    "## 分支语句"
   ]
  },
  {
   "cell_type": "code",
   "execution_count": 2,
   "metadata": {},
   "outputs": [
    {
     "name": "stdout",
     "output_type": "stream",
     "text": [
      "请输入分数:22\n",
      "dddd\n"
     ]
    }
   ],
   "source": [
    "score = int(input(\"请输入分数:\"))\n",
    "if score >=90:\n",
    "    print(\"A\")\n",
    "elif score >= 80:\n",
    "    print(\"B\")\n",
    "elif score >= 70:\n",
    "    print(\"C\")\n",
    "elif score >= 60:\n",
    "    print(\"及格\")\n",
    "else:\n",
    "    print(\"dddd\")"
   ]
  },
  {
   "cell_type": "markdown",
   "metadata": {},
   "source": [
    "## 循环语句\n",
    "- for循环\n",
    "    - 格式：for 变量  in 序列：\n",
    "                   语句1\n",
    "                   语句2\n",
    "                   .......\n",
    "        - in 前面是变量，后面是可以循环的表达式，必须为可迭代"
   ]
  },
  {
   "cell_type": "code",
   "execution_count": 4,
   "metadata": {},
   "outputs": [
    {
     "name": "stdout",
     "output_type": "stream",
     "text": [
      "1\n",
      "2\n",
      "3\n",
      "4\n",
      "5\n",
      "6\n",
      "7\n"
     ]
    }
   ],
   "source": [
    "temp = [1,2,3,4,5,6,7]\n",
    "for i in temp:\n",
    "    print(i)"
   ]
  },
  {
   "cell_type": "markdown",
   "metadata": {},
   "source": [
    "### range函数\n",
    "- 自动生成数值的函数，格式为:range（x1,x2）,range函数生成的数值，前包含后不包含，python里面有个例外:randint函数"
   ]
  },
  {
   "cell_type": "code",
   "execution_count": 10,
   "metadata": {},
   "outputs": [
    {
     "data": {
      "text/plain": [
       "[1, 2, 3]"
      ]
     },
     "execution_count": 10,
     "metadata": {},
     "output_type": "execute_result"
    }
   ],
   "source": [
    "list(range(1,4))"
   ]
  },
  {
   "cell_type": "code",
   "execution_count": 21,
   "metadata": {},
   "outputs": [
    {
     "name": "stdout",
     "output_type": "stream",
     "text": [
      "1\n",
      "2\n",
      "3\n",
      "4\n"
     ]
    }
   ],
   "source": [
    "for i in range(1,5):\n",
    "    print(i)"
   ]
  },
  {
   "cell_type": "markdown",
   "metadata": {},
   "source": [
    "## while 循环\n",
    "- 表示到条件成立的时候就循环，适用于不知道具体循环次数，但能确定某个条件成立的情况下就循环。\n",
    "- while 语法:\n",
    "                while 条件表达式:\n",
    "                        语句块\n",
    "                        \n",
    "                while 条件表达式:\n",
    "                        语句块1\n",
    "                else：\n",
    "                        语句块2"
   ]
  },
  {
   "cell_type": "code",
   "execution_count": 3,
   "metadata": {},
   "outputs": [
    {
     "name": "stdout",
     "output_type": "stream",
     "text": [
      "你第1年的钱为10670.0\n",
      "你第2年的钱为11384.89\n",
      "你第3年的钱为12147.677629999998\n",
      "你第4年的钱为12961.572031209998\n",
      "你第5年的钱为13829.997357301068\n",
      "你第6年的钱为14756.607180240238\n",
      "你第7年的钱为15745.299861316334\n",
      "你第8年的钱为16800.23495202453\n",
      "你第9年的钱为17925.85069381017\n",
      "你第10年的钱为19126.88269029545\n",
      "你第11年的钱为20408.383830545245\n",
      "11\n"
     ]
    }
   ],
   "source": [
    "# while案例1\n",
    "benqian = 10000\n",
    "year = 0\n",
    "while benqian < 20000:\n",
    "    benqian = benqian*(1+0.067)\n",
    "    year += 1\n",
    "    print(\"你第{}年的钱为{}\".format(year,benqian))\n",
    "print(year)"
   ]
  },
  {
   "cell_type": "code",
   "execution_count": 4,
   "metadata": {},
   "outputs": [
    {
     "name": "stdout",
     "output_type": "stream",
     "text": [
      "你第1年的钱为10670.0\n",
      "你第2年的钱为11384.89\n",
      "你第3年的钱为12147.677629999998\n",
      "你第4年的钱为12961.572031209998\n",
      "你第5年的钱为13829.997357301068\n",
      "你第6年的钱为14756.607180240238\n",
      "你第7年的钱为15745.299861316334\n",
      "你第8年的钱为16800.23495202453\n",
      "你第9年的钱为17925.85069381017\n",
      "你第10年的钱为19126.88269029545\n",
      "你第11年的钱为20408.383830545245\n",
      "11\n"
     ]
    }
   ],
   "source": [
    "# while案例2\n",
    "benqian = 10000\n",
    "year = 0\n",
    "while benqian < 20000:\n",
    "    benqian = benqian*(1+0.067)\n",
    "    year += 1\n",
    "    print(\"你第{}年的钱为{}\".format(year,benqian))\n",
    "else:\n",
    "    print(year)"
   ]
  },
  {
   "cell_type": "code",
   "execution_count": 22,
   "metadata": {},
   "outputs": [
    {
     "name": "stdout",
     "output_type": "stream",
     "text": [
      "你还小啊\n",
      "你还小啊\n",
      "你还小啊\n",
      "你还小啊\n",
      "你还小啊\n",
      "你还小啊\n",
      "你还小啊\n",
      "你还小啊\n",
      "wo men ke yi qi wan la \n"
     ]
    }
   ],
   "source": [
    "age = 10\n",
    "while age < 18:\n",
    "    print(\"你还小啊\")\n",
    "    age = age+1\n",
    "print(\"wo men ke yi qi wan la \")"
   ]
  },
  {
   "cell_type": "markdown",
   "metadata": {},
   "source": [
    "## 循环语句里面的暂停\n",
    "- break 终止整个循环，直接猝死\n",
    "- continue 结束本次循环，符合条件的程序继续执行\n",
    "- pass 仅仅用来占位置"
   ]
  },
  {
   "cell_type": "code",
   "execution_count": 26,
   "metadata": {},
   "outputs": [
    {
     "name": "stdout",
     "output_type": "stream",
     "text": [
      "1\n",
      "2\n",
      "3\n"
     ]
    }
   ],
   "source": [
    "for i in range(1,10):\n",
    "    if i % 4 == 0:\n",
    "        break\n",
    "    print(i)"
   ]
  },
  {
   "cell_type": "code",
   "execution_count": 28,
   "metadata": {},
   "outputs": [
    {
     "name": "stdout",
     "output_type": "stream",
     "text": [
      "2 4 6 8 "
     ]
    }
   ],
   "source": [
    "for i in range(1,10):\n",
    "    if i % 2 == 1:\n",
    "        continue\n",
    "    print(i,end = \" \")"
   ]
  },
  {
   "cell_type": "code",
   "execution_count": 34,
   "metadata": {},
   "outputs": [
    {
     "ename": "IndentationError",
     "evalue": "expected an indented block (<ipython-input-34-6dbed8cde04a>, line 4)",
     "output_type": "error",
     "traceback": [
      "\u001b[1;36m  File \u001b[1;32m\"<ipython-input-34-6dbed8cde04a>\"\u001b[1;36m, line \u001b[1;32m4\u001b[0m\n\u001b[1;33m    print(i)\u001b[0m\n\u001b[1;37m        ^\u001b[0m\n\u001b[1;31mIndentationError\u001b[0m\u001b[1;31m:\u001b[0m expected an indented block\n"
     ]
    }
   ],
   "source": [
    "for i  in range(1,10):\n",
    "    if i % 2 == 0 :\n",
    "       # pass  # 这pass不能少，少了就报错\n",
    "    print(i)"
   ]
  },
  {
   "cell_type": "markdown",
   "metadata": {},
   "source": [
    "# 函数\n",
    "- 函数是代码的一种组织形式\n",
    "- 函数应该能完成一项特定的工作，而且一般一个函数只完成一项工作\n",
    "- 有些语言分函数和过程两个概念，通俗的解释是，有返回结果的叫函数，无返回结果的叫过程，python不加以区分\n",
    "- 函数的使用：\n",
    "    - 函数使用需要先定义\n",
    "    - 使用函数，俗称调用\n",
    "- 函数语法：\n",
    "    - 只定义的话，不会执行\n",
    "    - def func_name():\n",
    "            语句块1\n",
    "            语句块2\n",
    "            .....\n",
    "            "
   ]
  },
  {
   "cell_type": "code",
   "execution_count": 11,
   "metadata": {},
   "outputs": [
    {
     "name": "stdout",
     "output_type": "stream",
     "text": [
      "我来自我介绍一下，我是个函数啊\n",
      "makelove,xiaodingzi\n"
     ]
    }
   ],
   "source": [
    "def say_Hello():\n",
    "    print(\"我来自我介绍一下，我是个函数啊\")\n",
    "    print(\"makelove,xiaodingzi\")\n",
    "#print(\"函数结束啦\")\n",
    "say_Hello()"
   ]
  },
  {
   "cell_type": "markdown",
   "metadata": {},
   "source": [
    "# 函数的参数和返回值\n",
    "- 参数：负责给函数传递一些必要的数据或者信息\n",
    "    - 形参(形式参数)：在函数定义的时候用的参数，没有具体值，只是一个占位符号\n",
    "    - 实参(实际参数)：在调用函数的时候输入的值\n",
    "    \n",
    "- 返回值 调用函数的时候的一个执行结果\n",
    "    - 使用return返回结果\n",
    "    - 如果没有值需要返回，推荐使用return None表示函数结束(函数无条件终止)\n",
    "    - 函数一旦执行return,则函数立即结束\n",
    "    - 如果函数没有return关键字，系统默认返回None"
   ]
  },
  {
   "cell_type": "code",
   "execution_count": 23,
   "metadata": {},
   "outputs": [
    {
     "name": "stdout",
     "output_type": "stream",
     "text": [
      "xiaoming你好\n",
      "xiaoming你好，你今天看见我加丘比特了吗\n"
     ]
    }
   ],
   "source": [
    "# 形参和实参的案例\n",
    "# 参数person只是一个符号\n",
    "# 调用的时候用另一个\n",
    "def hello(person):\n",
    "    print(\"{}你好\".format(person))\n",
    "    print(\"{}你好，你今天看见我加丘比特了吗\".format(person))\n",
    "    return None\n",
    "    print(\"函数结束了，不会被打印\")\n",
    "P = \"xiaoming\"\n",
    "hello(P)"
   ]
  },
  {
   "cell_type": "code",
   "execution_count": 18,
   "metadata": {},
   "outputs": [
    {
     "name": "stdout",
     "output_type": "stream",
     "text": [
      "小光你好\n",
      "小光你好，你今天看见我加丘比特了吗\n"
     ]
    }
   ],
   "source": [
    "P = \"小光\"\n",
    "hello(P)"
   ]
  },
  {
   "cell_type": "code",
   "execution_count": 20,
   "metadata": {},
   "outputs": [
    {
     "name": "stdout",
     "output_type": "stream",
     "text": [
      "逼格翔你好\n",
      "逼格翔你好，你今天看见我加丘比特了吗\n",
      "None\n"
     ]
    }
   ],
   "source": [
    "pp = hello(\"逼格翔\")\n",
    "print(pp)"
   ]
  },
  {
   "cell_type": "markdown",
   "metadata": {},
   "source": [
    "# 学习案例总结\n",
    "\n",
    "- 九九乘法表"
   ]
  },
  {
   "cell_type": "code",
   "execution_count": 35,
   "metadata": {},
   "outputs": [
    {
     "name": "stdout",
     "output_type": "stream",
     "text": [
      "1*1=1\t \n",
      "1*2=2\t 2*2=4\t \n",
      "1*3=3\t 2*3=6\t 3*3=9\t \n",
      "1*4=4\t 2*4=8\t 3*4=12\t 4*4=16\t \n",
      "1*5=5\t 2*5=10\t 3*5=15\t 4*5=20\t 5*5=25\t \n",
      "1*6=6\t 2*6=12\t 3*6=18\t 4*6=24\t 5*6=30\t 6*6=36\t \n",
      "1*7=7\t 2*7=14\t 3*7=21\t 4*7=28\t 5*7=35\t 6*7=42\t 7*7=49\t \n",
      "1*8=8\t 2*8=16\t 3*8=24\t 4*8=32\t 5*8=40\t 6*8=48\t 7*8=56\t 8*8=64\t \n",
      "1*9=9\t 2*9=18\t 3*9=27\t 4*9=36\t 5*9=45\t 6*9=54\t 7*9=63\t 8*9=72\t 9*9=81\t \n"
     ]
    }
   ],
   "source": [
    "# version1\n",
    "for i in range(1,10):\n",
    "    for j in range(1,i+1):\n",
    "        print(\"{}*{}={}\\t\".format(j,i,j*i),end = \" \")\n",
    "    print()"
   ]
  },
  {
   "cell_type": "code",
   "execution_count": 43,
   "metadata": {},
   "outputs": [
    {
     "name": "stdout",
     "output_type": "stream",
     "text": [
      "1*1=1\t \n",
      "1*2=2\t 2*2=4\t \n",
      "1*3=3\t 2*3=6\t 3*3=9\t \n",
      "1*4=4\t 2*4=8\t 3*4=12\t 4*4=16\t \n",
      "1*5=5\t 2*5=10\t 3*5=15\t 4*5=20\t 5*5=25\t \n",
      "1*6=6\t 2*6=12\t 3*6=18\t 4*6=24\t 5*6=30\t 6*6=36\t \n",
      "1*7=7\t 2*7=14\t 3*7=21\t 4*7=28\t 5*7=35\t 6*7=42\t 7*7=49\t \n",
      "1*8=8\t 2*8=16\t 3*8=24\t 4*8=32\t 5*8=40\t 6*8=48\t 7*8=56\t 8*8=64\t \n",
      "1*9=9\t 2*9=18\t 3*9=27\t 4*9=36\t 5*9=45\t 6*9=54\t 7*9=63\t 8*9=72\t 9*9=81\t \n"
     ]
    }
   ],
   "source": [
    "# version2\n",
    "def jiujiu():\n",
    "    for i in range(1,10):\n",
    "        for j in range(1,i+1):\n",
    "            print(\"{}*{}={}\\t\".format(j,i,j*i),end = \" \")\n",
    "        print()\n",
    "        \n",
    "    return None\n",
    "jiujiu()"
   ]
  },
  {
   "cell_type": "code",
   "execution_count": 6,
   "metadata": {},
   "outputs": [
    {
     "name": "stdout",
     "output_type": "stream",
     "text": [
      "1*1=1\t \n",
      "2*1=2\t 2*2=4\t \n",
      "3*1=3\t 3*2=6\t 3*3=9\t \n",
      "4*1=4\t 4*2=8\t 4*3=12\t 4*4=16\t \n",
      "5*1=5\t 5*2=10\t 5*3=15\t 5*4=20\t 5*5=25\t \n",
      "6*1=6\t 6*2=12\t 6*3=18\t 6*4=24\t 6*5=30\t 6*6=36\t \n",
      "7*1=7\t 7*2=14\t 7*3=21\t 7*4=28\t 7*5=35\t 7*6=42\t 7*7=49\t \n",
      "8*1=8\t 8*2=16\t 8*3=24\t 8*4=32\t 8*5=40\t 8*6=48\t 8*7=56\t 8*8=64\t \n",
      "9*1=9\t 9*2=18\t 9*3=27\t 9*4=36\t 9*5=45\t 9*6=54\t 9*7=63\t 9*8=72\t 9*9=81\t \n"
     ]
    }
   ],
   "source": [
    "# version3\n",
    "#九九乘法表的改进版\n",
    "def printLine(line_num):\n",
    "    for i in range(1,line_num+1):\n",
    "        print(\"{}*{}={}\\t\".format(line_num,i,line_num*i),end=\" \")\n",
    "    print()\n",
    "def jiujiu(m,n):\n",
    "    for i in range(m,n):\n",
    "        printLine(i)\n",
    "    return None\n",
    "jiujiu(1,10)\n"
   ]
  },
  {
   "cell_type": "code",
   "execution_count": 10,
   "metadata": {},
   "outputs": [
    {
     "name": "stdout",
     "output_type": "stream",
     "text": [
      "1*1=1\t \n",
      "1*2=2\t 2*2=4\t \n",
      "1*3=3\t 2*3=6\t 3*3=9\t \n",
      "1*4=4\t 2*4=8\t 3*4=12\t 4*4=16\t \n",
      "1*5=5\t 2*5=10\t 3*5=15\t 4*5=20\t 5*5=25\t \n",
      "1*6=6\t 2*6=12\t 3*6=18\t 4*6=24\t 5*6=30\t 6*6=36\t \n",
      "1*7=7\t 2*7=14\t 3*7=21\t 4*7=28\t 5*7=35\t 6*7=42\t 7*7=49\t \n",
      "1*8=8\t 2*8=16\t 3*8=24\t 4*8=32\t 5*8=40\t 6*8=48\t 7*8=56\t 8*8=64\t \n",
      "1*9=9\t 2*9=18\t 3*9=27\t 4*9=36\t 5*9=45\t 6*9=54\t 7*9=63\t 8*9=72\t 9*9=81\t \n"
     ]
    }
   ],
   "source": [
    "def mut(m,n):\n",
    "    for i in range(m,n):\n",
    "        printLine(i)\n",
    "def printLine(i):\n",
    "    for j in range(1,i+1):\n",
    "        print(\"{}*{}={}\\t\".format(j,i,j*i),end = \" \")\n",
    "    print()\n",
    "mut(1,10)"
   ]
  },
  {
   "cell_type": "markdown",
   "metadata": {},
   "source": [
    "# 参数的详解\n",
    "- 参数分类\n",
    "    - 普通参数位置参数\n",
    "    - 默认参数\n",
    "    - 关键字参数\n",
    "    - 收集参数"
   ]
  },
  {
   "cell_type": "code",
   "execution_count": 11,
   "metadata": {},
   "outputs": [
    {
     "name": "stdout",
     "output_type": "stream",
     "text": [
      "6\n"
     ]
    }
   ],
   "source": [
    "# 普通参数\n",
    "def normal_para(one,two,three):\n",
    "    print(one + two + three)\n",
    "    return None\n",
    "normal_para(1,2,3)"
   ]
  },
  {
   "cell_type": "code",
   "execution_count": 12,
   "metadata": {},
   "outputs": [
    {
     "name": "stdout",
     "output_type": "stream",
     "text": [
      "6\n"
     ]
    }
   ],
   "source": [
    "def add(a, b, c):\n",
    "    print(a+b+c)\n",
    "add(1,2,3)"
   ]
  },
  {
   "cell_type": "code",
   "execution_count": 72,
   "metadata": {},
   "outputs": [
    {
     "name": "stdout",
     "output_type": "stream",
     "text": [
      "0\n",
      "3\n",
      "100\n",
      "103\n"
     ]
    }
   ],
   "source": [
    "# 默认参数\n",
    "def normal_para(one,two,three=0):\n",
    "    print(three)\n",
    "    print(one + two + three)\n",
    "\n",
    "    return None\n",
    "normal_para(1,2)\n",
    "normal_para(1,2,100)"
   ]
  },
  {
   "cell_type": "code",
   "execution_count": 14,
   "metadata": {},
   "outputs": [
    {
     "name": "stdout",
     "output_type": "stream",
     "text": [
      "30\n",
      "33\n",
      "30\n",
      "33\n"
     ]
    }
   ],
   "source": [
    "# 关键字参数\n",
    "def normal_para(one,two,three):\n",
    "    print(three)\n",
    "    print(one + two + three)\n",
    "    return None\n",
    "normal_para(one=1,two=2,three=30)\n",
    "normal_para(three=30,two=2,one=1)"
   ]
  },
  {
   "cell_type": "markdown",
   "metadata": {},
   "source": [
    "## 用列表来表达一个参数"
   ]
  },
  {
   "cell_type": "code",
   "execution_count": 128,
   "metadata": {},
   "outputs": [
    {
     "name": "stdout",
     "output_type": "stream",
     "text": [
      "6\n"
     ]
    }
   ],
   "source": [
    "def get_Sum(l_list):\n",
    "    print(l_list[0] + l_list[1] + l_list[2])\n",
    "get_Sum([1,2,3])"
   ]
  },
  {
   "cell_type": "markdown",
   "metadata": {},
   "source": [
    "# str字符串\n",
    "- str\n",
    "- 转义字符\n",
    "- 格式化\n",
    "- 内建函数"
   ]
  },
  {
   "cell_type": "markdown",
   "metadata": {},
   "source": [
    "# 字符串\n",
    "- 表示文字信息\n",
    "- 用单引号，双引号，三引号括起来\n",
    "    - 三引号可以保存多行信息\n"
   ]
  },
  {
   "cell_type": "code",
   "execution_count": 77,
   "metadata": {},
   "outputs": [
    {
     "name": "stdout",
     "output_type": "stream",
     "text": [
      "\n",
      "世界上最宽广的是大海\n",
      "比大海更宽广的是天空\n",
      "比天空更宽广的是男人的情怀！\n",
      "\n"
     ]
    }
   ],
   "source": [
    "# 三引号的案例\n",
    "s = \"\"\"\n",
    "世界上最宽广的是大海\n",
    "比大海更宽广的是天空\n",
    "比天空更宽广的是男人的情怀！\n",
    "\"\"\"\n",
    "print(s)"
   ]
  },
  {
   "cell_type": "markdown",
   "metadata": {},
   "source": [
    "# 转义字符\n",
    "- 用一个特殊的方法表示出一系列不方便写出来的内容，比如回车键，换行键，退格符\n",
    "- 借助反斜杠字符，一旦字符串出现反斜杠，则反斜杠后面一个或者几个字符表示的已经不是原来的意思啦，进行了转义\n",
    "- 在字符串中，一旦出现反斜杠就要加倍小心，可能有转义字符出现\n",
    "- 不同系统对换行操作有不同的表示\n",
    "    - windows: \\n\n",
    "    - Linux:  \\r\\n"
   ]
  },
  {
   "cell_type": "code",
   "execution_count": 89,
   "metadata": {},
   "outputs": [
    {
     "name": "stdout",
     "output_type": "stream",
     "text": [
      "all horses are animals ,but't not all animals are horses\n",
      "all horses are animals ,but't not all animals are horses\n",
      "E:\\caxaEB_test\n",
      "all \n",
      "horses\n",
      "are \n",
      "animals ,but't not all animals are horses\n"
     ]
    }
   ],
   "source": [
    "# 转义字符的案例\n",
    "# 想表达let's go\n",
    "ssss1= 'all horses are animals ,but\\'t not all animals are horses'#单引号转义：通常不推荐使用\n",
    "ssss = \"all horses are animals ,but't not all animals are horses\"#单双引号嵌套使用，表示转义，推荐使用\n",
    "# 表示斜杠通常表示路径：双斜杠来表示单斜杠\n",
    "ssss2 = \"E:\\\\caxaEB_test\"\n",
    "# 回车换行表示\n",
    "ssss3 = \"all \\nhorses\\nare \\nanimals ,but't not all animals are horses\"\n",
    "\n",
    "print(ssss)\n",
    "print(ssss1)\n",
    "print(ssss2)\n",
    "print(ssss3)"
   ]
  },
  {
   "cell_type": "code",
   "execution_count": 92,
   "metadata": {},
   "outputs": [
    {
     "name": "stdout",
     "output_type": "stream",
     "text": [
      "dhafhashfs \n"
     ]
    }
   ],
   "source": [
    "# 单个斜杠的用法\n",
    "def myDem(x,\\\n",
    "          y,\\\n",
    "          z\n",
    "         ):\n",
    "    print(\"dhafhashfs \")\n",
    "myDem(1,23,3)"
   ]
  },
  {
   "cell_type": "markdown",
   "metadata": {},
   "source": [
    "# 格式化\n",
    "- 把字符串按照一定的格式进行打印或者填充\n",
    "- 格式化的分类：\n",
    "    - 传统格式化\n",
    "    - format"
   ]
  },
  {
   "cell_type": "markdown",
   "metadata": {},
   "source": [
    "# 字符串的传统格式化\n",
    "- 使用%进行格式化\n",
    "- %（百分号）也叫占位符\n",
    "            %s:字符串\n",
    "            %r:字符串，但是使用repr而不是str\n",
    "            %c:整数转换为单个字符\n",
    "            %d:十进制整数\n",
    "            %u:无符号整数\n",
    "            %o:表示八进制\n",
    "            %x:表示十六进制，字母为小写\n",
    "            %X:表示十六进制，字母为大写\n",
    "            %e:表示浮点数e为小写，例如 2.87e+12\n",
    "            %E:浮点数E为大写，例如 2.87E+12\n",
    "            %f,%F:浮点数十进制形式\n",
    "            %g,%G:十进制形式浮点或者指数浮点自动换行\n",
    "            格式字符串前出现整数表示此占位符所占位置的宽度\n",
    "            格式字符串前面出现‘-’表示左对齐\n",
    "            格式字符串前面出现‘+’表示右对齐\n",
    "            0位不足用‘0’补齐\n",
    "            width表示宽度\n",
    "            pricision表示精度\n",
    "            "
   ]
  },
  {
   "cell_type": "markdown",
   "metadata": {},
   "source": [
    "## 传统格式化"
   ]
  },
  {
   "cell_type": "code",
   "execution_count": 97,
   "metadata": {},
   "outputs": [
    {
     "name": "stdout",
     "output_type": "stream",
     "text": [
      "no pain ,no gain\n",
      "no pain ,no pot\n"
     ]
    }
   ],
   "source": [
    "# version1\n",
    "s = \"no pain ,no %s\"#%s也表示占位符\n",
    "print(s%\"gain\")\n",
    "# version2\n",
    "s = \"no pain ,no %s\"%\"pot\"\n",
    "print(s)"
   ]
  },
  {
   "cell_type": "code",
   "execution_count": 103,
   "metadata": {},
   "outputs": [
    {
     "name": "stdout",
     "output_type": "stream",
     "text": [
      "我今年18岁了\n",
      "我今年19岁了\n"
     ]
    }
   ],
   "source": [
    "# 数字version1\n",
    "s1 = \"我今年%d岁了\"\n",
    "print(s1%18)\n",
    "# 数字version2\n",
    "s2 = \"我今年%d岁了\"%19\n",
    "print(s2)"
   ]
  },
  {
   "cell_type": "code",
   "execution_count": 105,
   "metadata": {},
   "outputs": [
    {
     "name": "stdout",
     "output_type": "stream",
     "text": [
      "height 51.45KG\n",
      "weight 1.70m\n"
     ]
    }
   ],
   "source": [
    "s = \"height %.2fKG\\nweight %.2fm\"\n",
    "print(s%(51.45,1.70))"
   ]
  },
  {
   "cell_type": "markdown",
   "metadata": {},
   "source": [
    "## format格式化\n",
    "- 使用函数形式进行格式化，代替以前的百分号"
   ]
  },
  {
   "cell_type": "code",
   "execution_count": 108,
   "metadata": {},
   "outputs": [
    {
     "name": "stdout",
     "output_type": "stream",
     "text": [
      "height:51.45Kg\n",
      "weight:171.00m\n"
     ]
    }
   ],
   "source": [
    "s = \"height:{}Kg\\nweight:{}m\".format(\"51.45\",\"171.00\")\n",
    "print(s)"
   ]
  },
  {
   "cell_type": "markdown",
   "metadata": {},
   "source": [
    "## format函数之命名参数"
   ]
  },
  {
   "cell_type": "code",
   "execution_count": 131,
   "metadata": {},
   "outputs": [
    {
     "name": "stdout",
     "output_type": "stream",
     "text": [
      "我们是北京数码大方科技股份有限公司,我们的网址是www.caxa.com,mengen是技术工程师\n"
     ]
    }
   ],
   "source": [
    "# version1\n",
    "s = \"我们是{comp},我们的网址是{url},{empno}是技术工程师\".format(comp=\"北京数码大方科技股份有限公司\", url=\"www.caxa.com\", empno=\"mengen\")\n",
    "print(s)"
   ]
  },
  {
   "cell_type": "code",
   "execution_count": 130,
   "metadata": {},
   "outputs": [
    {
     "name": "stdout",
     "output_type": "stream",
     "text": [
      "我们是北京数码大方,我们的网址是www.caxa.com,孟恩是技术工程师\n"
     ]
    }
   ],
   "source": [
    "# version2\n",
    "s = \"我们是{comp},我们的网址是{url},{empno}是技术工程师\"\n",
    "#用字典来传参数\n",
    "s_dict = {\"comp\":\"北京数码大方\", \"url\":\"www.caxa.com\",\"empno\":\"孟恩\"}\n",
    "# **两个星号表示解包\n",
    "print(s.format(**s_dict))"
   ]
  },
  {
   "cell_type": "markdown",
   "metadata": {},
   "source": [
    "## format函数嵌套使用"
   ]
  },
  {
   "cell_type": "code",
   "execution_count": 126,
   "metadata": {},
   "outputs": [
    {
     "name": "stdout",
     "output_type": "stream",
     "text": [
      "我们是北京数码大方,我们的网址是www.caxa.com,孟恩最帅\n"
     ]
    }
   ],
   "source": [
    "def format_jiebao(s_dict):\n",
    "    s = \"我们是{comp},我们的网址是{url},{empno}最帅\".format(**s_dict)\n",
    "    print(s)\n",
    "format_jiebao({\"comp\":\"北京数码大方\", \"url\":\"www.caxa.com\",\"empno\":\"孟恩\"})"
   ]
  },
  {
   "cell_type": "markdown",
   "metadata": {},
   "source": [
    "## format案例之精度问题\n",
    "\n"
   ]
  },
  {
   "cell_type": "markdown",
   "metadata": {},
   "source": [
    "### version1"
   ]
  },
  {
   "cell_type": "code",
   "execution_count": 136,
   "metadata": {},
   "outputs": [
    {
     "name": "stdout",
     "output_type": "stream",
     "text": [
      "mengen is 170.02m height and weight 51.54kg\n"
     ]
    }
   ],
   "source": [
    "s = \"mengen is {:.2f}m height and weight {:.2f}kg\"\n",
    "print(s.format(170.02,51.54))"
   ]
  },
  {
   "cell_type": "markdown",
   "metadata": {},
   "source": [
    "### version2"
   ]
  },
  {
   "cell_type": "code",
   "execution_count": 137,
   "metadata": {},
   "outputs": [
    {
     "name": "stdout",
     "output_type": "stream",
     "text": [
      "mengen is 170.020000m height and weight 51.540000kg\n"
     ]
    }
   ],
   "source": [
    "s1 = \"mengen is {:f}m height and weight {:f}kg\"\n",
    "print(s1.format(170.02,51.54))"
   ]
  },
  {
   "cell_type": "markdown",
   "metadata": {},
   "source": [
    "# str内置函数\n",
    "- 很多语言字符串用string表示，但是python用str表示\n"
   ]
  },
  {
   "cell_type": "code",
   "execution_count": 138,
   "metadata": {},
   "outputs": [
    {
     "name": "stdout",
     "output_type": "stream",
     "text": [
      "Help on class str in module builtins:\n",
      "\n",
      "class str(object)\n",
      " |  str(object='') -> str\n",
      " |  str(bytes_or_buffer[, encoding[, errors]]) -> str\n",
      " |  \n",
      " |  Create a new string object from the given object. If encoding or\n",
      " |  errors is specified, then the object must expose a data buffer\n",
      " |  that will be decoded using the given encoding and error handler.\n",
      " |  Otherwise, returns the result of object.__str__() (if defined)\n",
      " |  or repr(object).\n",
      " |  encoding defaults to sys.getdefaultencoding().\n",
      " |  errors defaults to 'strict'.\n",
      " |  \n",
      " |  Methods defined here:\n",
      " |  \n",
      " |  __add__(self, value, /)\n",
      " |      Return self+value.\n",
      " |  \n",
      " |  __contains__(self, key, /)\n",
      " |      Return key in self.\n",
      " |  \n",
      " |  __eq__(self, value, /)\n",
      " |      Return self==value.\n",
      " |  \n",
      " |  __format__(self, format_spec, /)\n",
      " |      Return a formatted version of the string as described by format_spec.\n",
      " |  \n",
      " |  __ge__(self, value, /)\n",
      " |      Return self>=value.\n",
      " |  \n",
      " |  __getattribute__(self, name, /)\n",
      " |      Return getattr(self, name).\n",
      " |  \n",
      " |  __getitem__(self, key, /)\n",
      " |      Return self[key].\n",
      " |  \n",
      " |  __getnewargs__(...)\n",
      " |  \n",
      " |  __gt__(self, value, /)\n",
      " |      Return self>value.\n",
      " |  \n",
      " |  __hash__(self, /)\n",
      " |      Return hash(self).\n",
      " |  \n",
      " |  __iter__(self, /)\n",
      " |      Implement iter(self).\n",
      " |  \n",
      " |  __le__(self, value, /)\n",
      " |      Return self<=value.\n",
      " |  \n",
      " |  __len__(self, /)\n",
      " |      Return len(self).\n",
      " |  \n",
      " |  __lt__(self, value, /)\n",
      " |      Return self<value.\n",
      " |  \n",
      " |  __mod__(self, value, /)\n",
      " |      Return self%value.\n",
      " |  \n",
      " |  __mul__(self, value, /)\n",
      " |      Return self*value.\n",
      " |  \n",
      " |  __ne__(self, value, /)\n",
      " |      Return self!=value.\n",
      " |  \n",
      " |  __repr__(self, /)\n",
      " |      Return repr(self).\n",
      " |  \n",
      " |  __rmod__(self, value, /)\n",
      " |      Return value%self.\n",
      " |  \n",
      " |  __rmul__(self, value, /)\n",
      " |      Return value*self.\n",
      " |  \n",
      " |  __sizeof__(self, /)\n",
      " |      Return the size of the string in memory, in bytes.\n",
      " |  \n",
      " |  __str__(self, /)\n",
      " |      Return str(self).\n",
      " |  \n",
      " |  capitalize(self, /)\n",
      " |      Return a capitalized version of the string.\n",
      " |      \n",
      " |      More specifically, make the first character have upper case and the rest lower\n",
      " |      case.\n",
      " |  \n",
      " |  casefold(self, /)\n",
      " |      Return a version of the string suitable for caseless comparisons.\n",
      " |  \n",
      " |  center(self, width, fillchar=' ', /)\n",
      " |      Return a centered string of length width.\n",
      " |      \n",
      " |      Padding is done using the specified fill character (default is a space).\n",
      " |  \n",
      " |  count(...)\n",
      " |      S.count(sub[, start[, end]]) -> int\n",
      " |      \n",
      " |      Return the number of non-overlapping occurrences of substring sub in\n",
      " |      string S[start:end].  Optional arguments start and end are\n",
      " |      interpreted as in slice notation.\n",
      " |  \n",
      " |  encode(self, /, encoding='utf-8', errors='strict')\n",
      " |      Encode the string using the codec registered for encoding.\n",
      " |      \n",
      " |      encoding\n",
      " |        The encoding in which to encode the string.\n",
      " |      errors\n",
      " |        The error handling scheme to use for encoding errors.\n",
      " |        The default is 'strict' meaning that encoding errors raise a\n",
      " |        UnicodeEncodeError.  Other possible values are 'ignore', 'replace' and\n",
      " |        'xmlcharrefreplace' as well as any other name registered with\n",
      " |        codecs.register_error that can handle UnicodeEncodeErrors.\n",
      " |  \n",
      " |  endswith(...)\n",
      " |      S.endswith(suffix[, start[, end]]) -> bool\n",
      " |      \n",
      " |      Return True if S ends with the specified suffix, False otherwise.\n",
      " |      With optional start, test S beginning at that position.\n",
      " |      With optional end, stop comparing S at that position.\n",
      " |      suffix can also be a tuple of strings to try.\n",
      " |  \n",
      " |  expandtabs(self, /, tabsize=8)\n",
      " |      Return a copy where all tab characters are expanded using spaces.\n",
      " |      \n",
      " |      If tabsize is not given, a tab size of 8 characters is assumed.\n",
      " |  \n",
      " |  find(...)\n",
      " |      S.find(sub[, start[, end]]) -> int\n",
      " |      \n",
      " |      Return the lowest index in S where substring sub is found,\n",
      " |      such that sub is contained within S[start:end].  Optional\n",
      " |      arguments start and end are interpreted as in slice notation.\n",
      " |      \n",
      " |      Return -1 on failure.\n",
      " |  \n",
      " |  format(...)\n",
      " |      S.format(*args, **kwargs) -> str\n",
      " |      \n",
      " |      Return a formatted version of S, using substitutions from args and kwargs.\n",
      " |      The substitutions are identified by braces ('{' and '}').\n",
      " |  \n",
      " |  format_map(...)\n",
      " |      S.format_map(mapping) -> str\n",
      " |      \n",
      " |      Return a formatted version of S, using substitutions from mapping.\n",
      " |      The substitutions are identified by braces ('{' and '}').\n",
      " |  \n",
      " |  index(...)\n",
      " |      S.index(sub[, start[, end]]) -> int\n",
      " |      \n",
      " |      Return the lowest index in S where substring sub is found, \n",
      " |      such that sub is contained within S[start:end].  Optional\n",
      " |      arguments start and end are interpreted as in slice notation.\n",
      " |      \n",
      " |      Raises ValueError when the substring is not found.\n",
      " |  \n",
      " |  isalnum(self, /)\n",
      " |      Return True if the string is an alpha-numeric string, False otherwise.\n",
      " |      \n",
      " |      A string is alpha-numeric if all characters in the string are alpha-numeric and\n",
      " |      there is at least one character in the string.\n",
      " |  \n",
      " |  isalpha(self, /)\n",
      " |      Return True if the string is an alphabetic string, False otherwise.\n",
      " |      \n",
      " |      A string is alphabetic if all characters in the string are alphabetic and there\n",
      " |      is at least one character in the string.\n",
      " |  \n",
      " |  isascii(self, /)\n",
      " |      Return True if all characters in the string are ASCII, False otherwise.\n",
      " |      \n",
      " |      ASCII characters have code points in the range U+0000-U+007F.\n",
      " |      Empty string is ASCII too.\n",
      " |  \n",
      " |  isdecimal(self, /)\n",
      " |      Return True if the string is a decimal string, False otherwise.\n",
      " |      \n",
      " |      A string is a decimal string if all characters in the string are decimal and\n",
      " |      there is at least one character in the string.\n",
      " |  \n",
      " |  isdigit(self, /)\n",
      " |      Return True if the string is a digit string, False otherwise.\n",
      " |      \n",
      " |      A string is a digit string if all characters in the string are digits and there\n",
      " |      is at least one character in the string.\n",
      " |  \n",
      " |  isidentifier(self, /)\n",
      " |      Return True if the string is a valid Python identifier, False otherwise.\n",
      " |      \n",
      " |      Use keyword.iskeyword() to test for reserved identifiers such as \"def\" and\n",
      " |      \"class\".\n",
      " |  \n",
      " |  islower(self, /)\n",
      " |      Return True if the string is a lowercase string, False otherwise.\n",
      " |      \n",
      " |      A string is lowercase if all cased characters in the string are lowercase and\n",
      " |      there is at least one cased character in the string.\n",
      " |  \n",
      " |  isnumeric(self, /)\n",
      " |      Return True if the string is a numeric string, False otherwise.\n",
      " |      \n",
      " |      A string is numeric if all characters in the string are numeric and there is at\n",
      " |      least one character in the string.\n",
      " |  \n",
      " |  isprintable(self, /)\n",
      " |      Return True if the string is printable, False otherwise.\n",
      " |      \n",
      " |      A string is printable if all of its characters are considered printable in\n",
      " |      repr() or if it is empty.\n",
      " |  \n",
      " |  isspace(self, /)\n",
      " |      Return True if the string is a whitespace string, False otherwise.\n",
      " |      \n",
      " |      A string is whitespace if all characters in the string are whitespace and there\n",
      " |      is at least one character in the string.\n",
      " |  \n",
      " |  istitle(self, /)\n",
      " |      Return True if the string is a title-cased string, False otherwise.\n",
      " |      \n",
      " |      In a title-cased string, upper- and title-case characters may only\n",
      " |      follow uncased characters and lowercase characters only cased ones.\n",
      " |  \n",
      " |  isupper(self, /)\n",
      " |      Return True if the string is an uppercase string, False otherwise.\n",
      " |      \n",
      " |      A string is uppercase if all cased characters in the string are uppercase and\n",
      " |      there is at least one cased character in the string.\n",
      " |  \n",
      " |  join(self, iterable, /)\n",
      " |      Concatenate any number of strings.\n",
      " |      \n",
      " |      The string whose method is called is inserted in between each given string.\n",
      " |      The result is returned as a new string.\n",
      " |      \n",
      " |      Example: '.'.join(['ab', 'pq', 'rs']) -> 'ab.pq.rs'\n",
      " |  \n",
      " |  ljust(self, width, fillchar=' ', /)\n",
      " |      Return a left-justified string of length width.\n",
      " |      \n",
      " |      Padding is done using the specified fill character (default is a space).\n",
      " |  \n",
      " |  lower(self, /)\n",
      " |      Return a copy of the string converted to lowercase.\n",
      " |  \n",
      " |  lstrip(self, chars=None, /)\n",
      " |      Return a copy of the string with leading whitespace removed.\n",
      " |      \n",
      " |      If chars is given and not None, remove characters in chars instead.\n",
      " |  \n",
      " |  partition(self, sep, /)\n",
      " |      Partition the string into three parts using the given separator.\n",
      " |      \n",
      " |      This will search for the separator in the string.  If the separator is found,\n",
      " |      returns a 3-tuple containing the part before the separator, the separator\n",
      " |      itself, and the part after it.\n",
      " |      \n",
      " |      If the separator is not found, returns a 3-tuple containing the original string\n",
      " |      and two empty strings.\n",
      " |  \n",
      " |  replace(self, old, new, count=-1, /)\n",
      " |      Return a copy with all occurrences of substring old replaced by new.\n",
      " |      \n",
      " |        count\n",
      " |          Maximum number of occurrences to replace.\n",
      " |          -1 (the default value) means replace all occurrences.\n",
      " |      \n",
      " |      If the optional argument count is given, only the first count occurrences are\n",
      " |      replaced.\n",
      " |  \n",
      " |  rfind(...)\n",
      " |      S.rfind(sub[, start[, end]]) -> int\n",
      " |      \n",
      " |      Return the highest index in S where substring sub is found,\n",
      " |      such that sub is contained within S[start:end].  Optional\n",
      " |      arguments start and end are interpreted as in slice notation.\n",
      " |      \n",
      " |      Return -1 on failure.\n",
      " |  \n",
      " |  rindex(...)\n",
      " |      S.rindex(sub[, start[, end]]) -> int\n",
      " |      \n",
      " |      Return the highest index in S where substring sub is found,\n",
      " |      such that sub is contained within S[start:end].  Optional\n",
      " |      arguments start and end are interpreted as in slice notation.\n",
      " |      \n",
      " |      Raises ValueError when the substring is not found.\n",
      " |  \n",
      " |  rjust(self, width, fillchar=' ', /)\n",
      " |      Return a right-justified string of length width.\n",
      " |      \n",
      " |      Padding is done using the specified fill character (default is a space).\n",
      " |  \n",
      " |  rpartition(self, sep, /)\n",
      " |      Partition the string into three parts using the given separator.\n",
      " |      \n",
      " |      This will search for the separator in the string, starting at the end. If\n",
      " |      the separator is found, returns a 3-tuple containing the part before the\n",
      " |      separator, the separator itself, and the part after it.\n",
      " |      \n",
      " |      If the separator is not found, returns a 3-tuple containing two empty strings\n",
      " |      and the original string.\n",
      " |  \n",
      " |  rsplit(self, /, sep=None, maxsplit=-1)\n",
      " |      Return a list of the words in the string, using sep as the delimiter string.\n",
      " |      \n",
      " |        sep\n",
      " |          The delimiter according which to split the string.\n",
      " |          None (the default value) means split according to any whitespace,\n",
      " |          and discard empty strings from the result.\n",
      " |        maxsplit\n",
      " |          Maximum number of splits to do.\n",
      " |          -1 (the default value) means no limit.\n",
      " |      \n",
      " |      Splits are done starting at the end of the string and working to the front.\n",
      " |  \n",
      " |  rstrip(self, chars=None, /)\n",
      " |      Return a copy of the string with trailing whitespace removed.\n",
      " |      \n",
      " |      If chars is given and not None, remove characters in chars instead.\n",
      " |  \n",
      " |  split(self, /, sep=None, maxsplit=-1)\n",
      " |      Return a list of the words in the string, using sep as the delimiter string.\n",
      " |      \n",
      " |      sep\n",
      " |        The delimiter according which to split the string.\n",
      " |        None (the default value) means split according to any whitespace,\n",
      " |        and discard empty strings from the result.\n",
      " |      maxsplit\n",
      " |        Maximum number of splits to do.\n",
      " |        -1 (the default value) means no limit.\n",
      " |  \n",
      " |  splitlines(self, /, keepends=False)\n",
      " |      Return a list of the lines in the string, breaking at line boundaries.\n",
      " |      \n",
      " |      Line breaks are not included in the resulting list unless keepends is given and\n",
      " |      true.\n",
      " |  \n",
      " |  startswith(...)\n",
      " |      S.startswith(prefix[, start[, end]]) -> bool\n",
      " |      \n",
      " |      Return True if S starts with the specified prefix, False otherwise.\n",
      " |      With optional start, test S beginning at that position.\n",
      " |      With optional end, stop comparing S at that position.\n",
      " |      prefix can also be a tuple of strings to try.\n",
      " |  \n",
      " |  strip(self, chars=None, /)\n",
      " |      Return a copy of the string with leading and trailing whitespace remove.\n",
      " |      \n",
      " |      If chars is given and not None, remove characters in chars instead.\n",
      " |  \n",
      " |  swapcase(self, /)\n",
      " |      Convert uppercase characters to lowercase and lowercase characters to uppercase.\n",
      " |  \n",
      " |  title(self, /)\n",
      " |      Return a version of the string where each word is titlecased.\n",
      " |      \n",
      " |      More specifically, words start with uppercased characters and all remaining\n",
      " |      cased characters have lower case.\n",
      " |  \n",
      " |  translate(self, table, /)\n",
      " |      Replace each character in the string using the given translation table.\n",
      " |      \n",
      " |        table\n",
      " |          Translation table, which must be a mapping of Unicode ordinals to\n",
      " |          Unicode ordinals, strings, or None.\n",
      " |      \n",
      " |      The table must implement lookup/indexing via __getitem__, for instance a\n",
      " |      dictionary or list.  If this operation raises LookupError, the character is\n",
      " |      left untouched.  Characters mapped to None are deleted.\n",
      " |  \n",
      " |  upper(self, /)\n",
      " |      Return a copy of the string converted to uppercase.\n",
      " |  \n",
      " |  zfill(self, width, /)\n",
      " |      Pad a numeric string with zeros on the left, to fill a field of the given width.\n",
      " |      \n",
      " |      The string is never truncated.\n",
      " |  \n",
      " |  ----------------------------------------------------------------------\n",
      " |  Static methods defined here:\n",
      " |  \n",
      " |  __new__(*args, **kwargs) from builtins.type\n",
      " |      Create and return a new object.  See help(type) for accurate signature.\n",
      " |  \n",
      " |  maketrans(x, y=None, z=None, /)\n",
      " |      Return a translation table usable for str.translate().\n",
      " |      \n",
      " |      If there is only one argument, it must be a dictionary mapping Unicode\n",
      " |      ordinals (integers) or characters to Unicode ordinals, strings or None.\n",
      " |      Character keys will be then converted to ordinals.\n",
      " |      If there are two arguments, they must be strings of equal length, and\n",
      " |      in the resulting dictionary, each character in x will be mapped to the\n",
      " |      character at the same position in y. If there is a third argument, it\n",
      " |      must be a string, whose characters will be mapped to None in the result.\n",
      "\n"
     ]
    }
   ],
   "source": [
    "help(str)"
   ]
  },
  {
   "cell_type": "markdown",
   "metadata": {},
   "source": [
    "# 内置函数\n",
    "- find, index, islover\n",
    "- find : 查找字符串中是否包含一个字符串\n",
    "- index: 跟find的唯一区别是index如果找不到会引发异常\n",
    "- rfind, lfind: 从左开始查找或者右开始查找"
   ]
  },
  {
   "cell_type": "code",
   "execution_count": 6,
   "metadata": {},
   "outputs": [
    {
     "ename": "ValueError",
     "evalue": "substring not found",
     "output_type": "error",
     "traceback": [
      "\u001b[1;31m---------------------------------------------------------------------------\u001b[0m",
      "\u001b[1;31mValueError\u001b[0m                                Traceback (most recent call last)",
      "\u001b[1;32m<ipython-input-6-ef0cf7641eb5>\u001b[0m in \u001b[0;36m<module>\u001b[1;34m()\u001b[0m\n\u001b[0;32m      5\u001b[0m \u001b[0ms\u001b[0m\u001b[1;33m.\u001b[0m\u001b[0mfind\u001b[0m\u001b[1;33m(\u001b[0m\u001b[0ms2\u001b[0m\u001b[1;33m)\u001b[0m\u001b[1;33m\u001b[0m\u001b[0m\n\u001b[0;32m      6\u001b[0m \u001b[0ms\u001b[0m\u001b[1;33m.\u001b[0m\u001b[0mindex\u001b[0m\u001b[1;33m(\u001b[0m\u001b[0ms1\u001b[0m\u001b[1;33m)\u001b[0m\u001b[1;33m\u001b[0m\u001b[0m\n\u001b[1;32m----> 7\u001b[1;33m \u001b[0ms\u001b[0m\u001b[1;33m.\u001b[0m\u001b[0mindex\u001b[0m\u001b[1;33m(\u001b[0m\u001b[0ms2\u001b[0m\u001b[1;33m)\u001b[0m\u001b[1;31m#index会报错，或者叫引发异常\u001b[0m\u001b[1;33m\u001b[0m\u001b[0m\n\u001b[0m",
      "\u001b[1;31mValueError\u001b[0m: substring not found"
     ]
    }
   ],
   "source": [
    "s = \"I love xiaoyarong\"\n",
    "s1 = \"xiaoyarong\"\n",
    "s.find(s1)\n",
    "s2 = \"xiaohudie\"\n",
    "s.find(s2)\n",
    "s.index(s1)\n",
    "s.index(s2)#index会报错，或者叫引发异常"
   ]
  },
  {
   "cell_type": "code",
   "execution_count": 11,
   "metadata": {},
   "outputs": [
    {
     "data": {
      "text/plain": [
       "40"
      ]
     },
     "execution_count": 11,
     "metadata": {},
     "output_type": "execute_result"
    }
   ],
   "source": [
    "#使用字符串可以选择区间\n",
    "s = \"I love zhangxiaoqi xiaohudie xiaoyarong xiaohudie\"\n",
    "s1 = \"xiaohudie\"\n",
    "s.find(s1)\n",
    "s.find(s1,20)"
   ]
  },
  {
   "cell_type": "code",
   "execution_count": 1,
   "metadata": {},
   "outputs": [
    {
     "name": "stdout",
     "output_type": "stream",
     "text": [
      "Help on method_descriptor:\n",
      "\n",
      "find(...)\n",
      "    S.find(sub[, start[, end]]) -> int\n",
      "    \n",
      "    Return the lowest index in S where substring sub is found,\n",
      "    such that sub is contained within S[start:end].  Optional\n",
      "    arguments start and end are interpreted as in slice notation.\n",
      "    \n",
      "    Return -1 on failure.\n",
      "\n"
     ]
    }
   ],
   "source": [
    "help(str.find)"
   ]
  },
  {
   "cell_type": "markdown",
   "metadata": {},
   "source": [
    "### 判断类函数\n",
    "- 此类函数的特点一般都用is开头，比如islower\n",
    "- isalpha: 判断是否是字母\n",
    "    - 需要注意的是两点：\n",
    "        - 1.此函数默认的前提是字符串至少包含一个字符，如果没有，同样返回False\n",
    "        - 2.汉字被认为是alpha,所以，此函数不能作为区分英语字母还是汉字的标识，区分中英文用unicode码。\n",
    "        - 3.注意使用区别\n",
    "- isdigit,isnumeric, isdecimal 三个判断数字的函数\n",
    "        - 对这三个函数的一个总结：\n",
    "           - 此类函数不建议使用，在后期爬虫中、判断是否是数字建议采用正则表达式的方式"
   ]
  },
  {
   "cell_type": "code",
   "execution_count": 16,
   "metadata": {},
   "outputs": [
    {
     "name": "stdout",
     "output_type": "stream",
     "text": [
      "False\n",
      "False\n",
      "True\n",
      "False\n"
     ]
    },
    {
     "ename": "AttributeError",
     "evalue": "'str' object has no attribute 'isdgit'",
     "output_type": "error",
     "traceback": [
      "\u001b[1;31m---------------------------------------------------------------------------\u001b[0m",
      "\u001b[1;31mAttributeError\u001b[0m                            Traceback (most recent call last)",
      "\u001b[1;32m<ipython-input-16-e15cc5534f17>\u001b[0m in \u001b[0;36m<module>\u001b[1;34m()\u001b[0m\n\u001b[0;32m      8\u001b[0m \u001b[0mprint\u001b[0m\u001b[1;33m(\u001b[0m\u001b[0ms4\u001b[0m\u001b[1;33m.\u001b[0m\u001b[0misalpha\u001b[0m\u001b[1;33m(\u001b[0m\u001b[1;33m)\u001b[0m\u001b[1;33m)\u001b[0m\u001b[1;33m\u001b[0m\u001b[0m\n\u001b[0;32m      9\u001b[0m \u001b[0ms5\u001b[0m \u001b[1;33m=\u001b[0m \u001b[1;34m\"1234\"\u001b[0m\u001b[1;33m\u001b[0m\u001b[0m\n\u001b[1;32m---> 10\u001b[1;33m \u001b[0mprint\u001b[0m\u001b[1;33m(\u001b[0m\u001b[0ms5\u001b[0m\u001b[1;33m.\u001b[0m\u001b[0misdgit\u001b[0m\u001b[1;33m(\u001b[0m\u001b[1;33m)\u001b[0m\u001b[1;33m)\u001b[0m\u001b[1;33m\u001b[0m\u001b[0m\n\u001b[0m",
      "\u001b[1;31mAttributeError\u001b[0m: 'str' object has no attribute 'isdgit'"
     ]
    }
   ],
   "source": [
    "s1 = \"世界上,最宽广的是大海\"#此函数必须是全汉字\n",
    "print(s1.isalpha())\n",
    "s2 = \"xiao xiao good friends is xiaoxiao\"\n",
    "print(s2.isalpha())\n",
    "s3 = \"xiaoxiaogoodfiendisxaiohudie\"\n",
    "print(s3.isalpha())\n",
    "s4 = \"xiaoxaio.goodfiend,isxiaoxiao\"\n",
    "print(s4.isalpha())\n",
    "s5 = \"1234\"\n",
    "print(s5.isdgit())"
   ]
  },
  {
   "cell_type": "code",
   "execution_count": 30,
   "metadata": {},
   "outputs": [
    {
     "name": "stdout",
     "output_type": "stream",
     "text": [
      "False\n",
      "True\n",
      "False\n"
     ]
    }
   ],
   "source": [
    "# 三个函数应用案例\n",
    "chin_num = \"一二三四\"\n",
    "print(chin_num.isdigit())\n",
    "print(chin_num.isnumeric())\n",
    "print(chin_num.isdecimal())"
   ]
  },
  {
   "cell_type": "code",
   "execution_count": 35,
   "metadata": {},
   "outputs": [
    {
     "name": "stdout",
     "output_type": "stream",
     "text": [
      "Help on method_descriptor:\n",
      "\n",
      "islower(self, /)\n",
      "    Return True if the string is a lowercase string, False otherwise.\n",
      "    \n",
      "    A string is lowercase if all cased characters in the string are lowercase and\n",
      "    there is at least one cased character in the string.\n",
      "\n"
     ]
    }
   ],
   "source": [
    "help(str.islower)"
   ]
  },
  {
   "cell_type": "markdown",
   "metadata": {},
   "source": [
    "### 内容判断类\n",
    "- startswith/endswith : 是否以xxx开头或者结尾\n",
    "    - 检测某个字符串是否以某个子字符串开头，常用三个参数\n",
    "    - suffix: 被检查的字符串，必须有\n",
    "    - start:\n",
    "    - end: "
   ]
  },
  {
   "cell_type": "markdown",
   "metadata": {},
   "source": [
    "# 操作类函数\n",
    "- format :格式化用的\n",
    "- strip :这个函数主要作用是删除字符串两边的空格，其实这个函数允许你去定义删除字符串两边的哪个字符，只不过如果不指定的话默认是空格，同样还有lstrip和rstrip，此处l和r分别表示左边和右边，即删除字符串左边或者右边指定字符，默认空格，需要注意的是，此处的删除不是删除一个，是指从头开始符号条件的连续字符。\n",
    "- join ：这个字符串主要对字符串进行拼接，它需要一个可以迭代的内容作为参数，功能是把可迭代的字符串拼接在一起，中间使用调用字符串作为分隔符。"
   ]
  },
  {
   "cell_type": "code",
   "execution_count": 7,
   "metadata": {},
   "outputs": [
    {
     "name": "stdout",
     "output_type": "stream",
     "text": [
      "MMMMn love xiaoyarong---\n",
      "n love xiaoyarong   ***"
     ]
    }
   ],
   "source": [
    "s = \"MMMMn love xiaoyarong   \"\n",
    "print(s.strip(),end=\"---\")\n",
    "print()\n",
    "print(s.strip('M'),end=\"***\")#删除指定的字符，但是空格会保留"
   ]
  },
  {
   "cell_type": "code",
   "execution_count": 5,
   "metadata": {},
   "outputs": [
    {
     "name": "stdout",
     "output_type": "stream",
     "text": [
      "Help on method_descriptor:\n",
      "\n",
      "strip(self, chars=None, /)\n",
      "    Return a copy of the string with leading and trailing whitespace remove.\n",
      "    \n",
      "    If chars is given and not None, remove characters in chars instead.\n",
      "\n"
     ]
    }
   ],
   "source": [
    "help(str.strip)"
   ]
  },
  {
   "cell_type": "code",
   "execution_count": 2,
   "metadata": {},
   "outputs": [
    {
     "name": "stdout",
     "output_type": "stream",
     "text": [
      "Mengen@is@bigexiang\n",
      "Mengen-is-bigexiang\n",
      "Mengen is bigexiang\n"
     ]
    }
   ],
   "source": [
    "# join案例\n",
    "ss = [\"Mengen\", \"is\", \"bigexiang\"]\n",
    "s1 = \"@\"\n",
    "s2 = \"-\"\n",
    "s3 = \" \"\n",
    "print(s1.join(ss))\n",
    "print(s2.join(ss))\n",
    "print(s3.join(ss))"
   ]
  },
  {
   "cell_type": "code",
   "execution_count": null,
   "metadata": {},
   "outputs": [],
   "source": []
  },
  {
   "cell_type": "code",
   "execution_count": null,
   "metadata": {},
   "outputs": [],
   "source": []
  },
  {
   "cell_type": "code",
   "execution_count": null,
   "metadata": {},
   "outputs": [],
   "source": []
  },
  {
   "cell_type": "code",
   "execution_count": null,
   "metadata": {},
   "outputs": [],
   "source": []
  }
 ],
 "metadata": {
  "kernelspec": {
   "display_name": "Python 3",
   "language": "python",
   "name": "python3"
  },
  "language_info": {
   "codemirror_mode": {
    "name": "ipython",
    "version": 3
   },
   "file_extension": ".py",
   "mimetype": "text/x-python",
   "name": "python",
   "nbconvert_exporter": "python",
   "pygments_lexer": "ipython3",
   "version": "3.7.0"
  }
 },
 "nbformat": 4,
 "nbformat_minor": 2
}
