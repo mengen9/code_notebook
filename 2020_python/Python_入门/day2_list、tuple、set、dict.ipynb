{
 "cells": [
  {
   "cell_type": "markdown",
   "metadata": {},
   "source": [
    "# list 列表\n",
    "- 一组由有序数据组成的序列 \n",
    "    - 数据有先后顺序\n",
    "    - 数据可以不是一类数据\n",
    "- list的创建\n",
    "    - 直接创建，用中括号括起来，中间用英文逗号隔开"
   ]
  },
  {
   "cell_type": "markdown",
   "metadata": {},
   "source": [
    "### python中的内置函数\n",
    "- str\n",
    "- list\n",
    "- tuple\n",
    "- set\n",
    "- dict"
   ]
  },
  {
   "cell_type": "code",
   "execution_count": 2,
   "metadata": {},
   "outputs": [
    {
     "name": "stdout",
     "output_type": "stream",
     "text": [
      "['mengen', 1, 2, 'Mn']\n"
     ]
    }
   ],
   "source": [
    "L = [\"mengen\", 1, 2, \"Mn\"]\n",
    "print(L)"
   ]
  },
  {
   "cell_type": "markdown",
   "metadata": {},
   "source": [
    "### 创建列表的第二种方式\n"
   ]
  },
  {
   "cell_type": "code",
   "execution_count": 1,
   "metadata": {},
   "outputs": [
    {
     "name": "stdout",
     "output_type": "stream",
     "text": [
      "[]\n",
      "<class 'list'>\n"
     ]
    }
   ],
   "source": [
    "L3 = list()\n",
    "print(L3)\n",
    "print(type(L3))"
   ]
  },
  {
   "cell_type": "markdown",
   "metadata": {},
   "source": [
    "### 内置函数的概念\n",
    "- help:帮助函数\n",
    "- type：显示变量的类型\n",
    "- id:显示变量的id\n",
    "- print:打印要输出的内容"
   ]
  },
  {
   "cell_type": "code",
   "execution_count": 4,
   "metadata": {},
   "outputs": [
    {
     "name": "stdout",
     "output_type": "stream",
     "text": [
      "<class 'list'>\n",
      "['M', 'e', 'n', 'g', 'e', 'n']\n",
      "<class 'list'>\n",
      "['Mengen']\n"
     ]
    }
   ],
   "source": [
    "# list创建的特例演示\n",
    "L1 = \"Mengen\"\n",
    "# 想创建一个只包含L1的一个字符串列表\n",
    "s = list(L1)\n",
    "print(type(s))\n",
    "print(s)\n",
    "\n",
    "# 正确的格式\n",
    "ss = [L1]\n",
    "print(type(ss))\n",
    "print(ss)"
   ]
  },
  {
   "cell_type": "markdown",
   "metadata": {},
   "source": [
    "### 列表的常见操作\n",
    "- 访问\n",
    "       - 使用下标操作、也叫索引\n",
    "       - 列表的元素索引是从0开始的\n",
    "- 切片操作\n",
    "    - 对列表进行任意一段的截取，截取完之后创建一个新的列表\n",
    "        - 通过id函数来判断切片后是否生成了一个新的列表\n",
    "        - 切片的下标可以为空\n",
    "    - 切片操作取值范围注意，左包括右边不包括"
   ]
  },
  {
   "cell_type": "code",
   "execution_count": 6,
   "metadata": {},
   "outputs": [
    {
     "name": "stdout",
     "output_type": "stream",
     "text": [
      "[1, 2, 3, 4, 5, 6, 7, 8, 9]\n",
      "7\n"
     ]
    }
   ],
   "source": [
    "L1 = list(range(1,10))\n",
    "print(L1)\n",
    "print(L1[6])"
   ]
  },
  {
   "cell_type": "code",
   "execution_count": 8,
   "metadata": {},
   "outputs": [
    {
     "name": "stdout",
     "output_type": "stream",
     "text": [
      "2538498656456\n",
      "[2, 3, 4, 5, 6, 7, 8]\n",
      "2538497373576\n",
      "[2, 3, 4, 5, 6, 7, 8]\n"
     ]
    }
   ],
   "source": [
    "L2 = list(range(2,9))\n",
    "print(id(L2))\n",
    "print(L2)\n",
    "L3 = L2[:]\n",
    "print(id(L3))\n",
    "print(L3)"
   ]
  },
  {
   "cell_type": "code",
   "execution_count": 12,
   "metadata": {},
   "outputs": [
    {
     "name": "stdout",
     "output_type": "stream",
     "text": [
      "[7, 6, 5]\n",
      "[5, 6, 7]\n"
     ]
    }
   ],
   "source": [
    "# 下标值，增长幅度可以为负数\n",
    "# 下标为负数表明顺序是从右到左\n",
    "# 规定：数组最有一个数字的下标是-1\n",
    "# 切片特例\n",
    "# 下标为负\n",
    "print(L2[-2:-5:-1])\n",
    "print(L2[-4:-1:1])"
   ]
  },
  {
   "cell_type": "markdown",
   "metadata": {},
   "source": [
    "# tuple(元组)\n",
    "- 一组不可以修改的有序元素列表"
   ]
  },
  {
   "cell_type": "code",
   "execution_count": 9,
   "metadata": {},
   "outputs": [
    {
     "name": "stdout",
     "output_type": "stream",
     "text": [
      "<class 'tuple'>\n",
      "<class 'int'>\n",
      "<class 'tuple'>\n",
      "<class 'tuple'>\n",
      "<class 'tuple'>\n",
      "(100,)\n",
      "(100,)\n"
     ]
    }
   ],
   "source": [
    "# tuple的创建\n",
    "\n",
    "# 1.直接用小括号\n",
    "ta = ()\n",
    "print(type(ta))\n",
    "# 当小括号创建一个元素的tuple的时候\n",
    "tb = (100)\n",
    "print(type(tb))\n",
    "# 正确的创建tuple的格式\n",
    "tb = (100, )\n",
    "print(type(tb))\n",
    "tc = (100, 150)\n",
    "print(type(tc))\n",
    "\n",
    "# 2. 直接用逗号\n",
    "ta = 100, \n",
    "print(type(ta))\n",
    "\n",
    "\n",
    "# 3 .使用tuple定义\n",
    "print(ta)\n",
    "td = tuple(ta) # 要求tuple参数必须可迭代\n",
    "print(td)"
   ]
  },
  {
   "cell_type": "markdown",
   "metadata": {},
   "source": [
    "### tuple其余特征跟list基本一致\n",
    "- 有序\n",
    "- 可以访问不可以修改\n",
    "- 元素可以是任意类型\n"
   ]
  },
  {
   "cell_type": "code",
   "execution_count": 10,
   "metadata": {},
   "outputs": [
    {
     "name": "stdout",
     "output_type": "stream",
     "text": [
      "['jin', 'tian', '2月2号']\n",
      "('jin', 'tian', '2月2号')\n",
      "2月2号\n"
     ]
    }
   ],
   "source": [
    "# tuple 索引操作\n",
    "la = [\"jin\", \"tian\", \"2月2号\"]\n",
    "print(la)\n",
    "ta = tuple(la)\n",
    "print(ta)\n",
    "print(ta[2])"
   ]
  },
  {
   "cell_type": "code",
   "execution_count": 11,
   "metadata": {},
   "outputs": [
    {
     "name": "stdout",
     "output_type": "stream",
     "text": [
      "(100, 200, 300, 'i', 'love', 'python')\n",
      "2343397899864\n",
      "2343397899792\n",
      "2343373577480\n"
     ]
    }
   ],
   "source": [
    "# 元组的相加\n",
    "\n",
    "ta = 100,200,300\n",
    "tb= (\"i\", \"love\", \"python\")\n",
    "tc = ta + tb\n",
    "print(tc)\n",
    "print(id(ta))\n",
    "print(id(tb))\n",
    "print(id(tc))"
   ]
  },
  {
   "cell_type": "code",
   "execution_count": 7,
   "metadata": {},
   "outputs": [
    {
     "name": "stdout",
     "output_type": "stream",
     "text": [
      "('i', 'love', 'java', 'i', 'love', 'java')\n",
      "对的\n"
     ]
    }
   ],
   "source": [
    "# 成员检测\n",
    "tb = (\"i\", \"love\", \"java\")\n",
    "tc = tb * 2\n",
    "print(tc)\n",
    "la = \"java\"\n",
    "if la in tc:\n",
    "    print(\"对的\")\n",
    "else:\n",
    "    print(\"错的\")"
   ]
  },
  {
   "cell_type": "code",
   "execution_count": 8,
   "metadata": {},
   "outputs": [
    {
     "name": "stdout",
     "output_type": "stream",
     "text": [
      "i\n",
      "love\n",
      "java\n",
      "i\n",
      "love\n",
      "java\n"
     ]
    }
   ],
   "source": [
    "# 元组的遍历\n",
    "for i in tc:\n",
    "    print(i)"
   ]
  },
  {
   "cell_type": "code",
   "execution_count": 11,
   "metadata": {},
   "outputs": [
    {
     "name": "stdout",
     "output_type": "stream",
     "text": [
      "(10, 20, 30)\n",
      "10\n",
      "20\n",
      "30\n",
      "('i', 'love', 'python')\n",
      "i\n",
      "love\n",
      "python\n",
      "(100, 200, 300)\n",
      "100\n",
      "200\n",
      "300\n",
      "10 20 30\n",
      "i love python\n",
      "100 200 300\n"
     ]
    }
   ],
   "source": [
    "# 元组的嵌套\n",
    "# 1,双层循环访问元组嵌套\n",
    "ta = ((10, 20, 30), (\"i\", \"love\", \"python\"), (100, 200, 300))\n",
    "for i in ta:\n",
    "    print(i)\n",
    "    for j in i:\n",
    "        print(j)\n",
    "# 2. 使用单层循环\n",
    "for i, j, k in ta:\n",
    "    print(i, j, k)\n",
    "# 上面的访问有一个规定，即i，j, k要跟元组的元素个数对应"
   ]
  },
  {
   "cell_type": "markdown",
   "metadata": {},
   "source": [
    "# tuple相关函数\n",
    "- len\n",
    "- max/min最大最小值\n",
    "- index\n",
    "- count"
   ]
  },
  {
   "cell_type": "code",
   "execution_count": 17,
   "metadata": {},
   "outputs": [
    {
     "name": "stdout",
     "output_type": "stream",
     "text": [
      "15\n",
      "54\n",
      "6\n",
      "3\n"
     ]
    }
   ],
   "source": [
    "tv = (1,2,3,4,5,6,7,54,2,3,4,3,3,3,3)\n",
    "print(len(tv))\n",
    "print(max(tv))\n",
    "print(tv.count(3))\n",
    "print(tv.index(4))"
   ]
  },
  {
   "cell_type": "code",
   "execution_count": 19,
   "metadata": {},
   "outputs": [
    {
     "name": "stdout",
     "output_type": "stream",
     "text": [
      "100 python\n",
      "python 100\n"
     ]
    }
   ],
   "source": [
    "# tuple的特殊用法\n",
    "a = 100\n",
    "b = \"python\"\n",
    "print(a, b)\n",
    "a, b = b, a# 此种用法是python独门秘籍\n",
    "print(a, b)"
   ]
  },
  {
   "cell_type": "markdown",
   "metadata": {},
   "source": [
    "# 集合\n",
    "- 跟数学中集合的概念一致\n",
    "- 内容无序+内容不重复\n",
    "- 集合的定义\n",
    "    - 1. 通过set关键字\n",
    "    \n",
    "    "
   ]
  },
  {
   "cell_type": "code",
   "execution_count": 30,
   "metadata": {},
   "outputs": [
    {
     "name": "stdout",
     "output_type": "stream",
     "text": [
      "<class 'set'>\n",
      "{1, 2, 3, 4, 5, 6, 7, 8}\n",
      "{1, 2, 3, 4, 5, 66, 7, 555, 66667, 786}\n"
     ]
    }
   ],
   "source": [
    "sa = set()\n",
    "print(type(sa))\n",
    "li = [1,2,3,4,5,6,7,8,1,2,3,4]\n",
    "sb = set(li)\n",
    "print(sb)\n",
    "# 2.使用大括号来定义\n",
    "sc = {1,2,3,4,5,5,5,5,66,7,555,66667,786}\n",
    "print(sc)"
   ]
  },
  {
   "cell_type": "markdown",
   "metadata": {},
   "source": [
    "### 集合的相关操作\n",
    "- in 成员检测\n"
   ]
  },
  {
   "cell_type": "code",
   "execution_count": 31,
   "metadata": {},
   "outputs": [
    {
     "name": "stdout",
     "output_type": "stream",
     "text": [
      "ssss\n",
      "1\n",
      "2\n",
      "3\n",
      "4\n",
      "5\n",
      "66\n",
      "7\n",
      "555\n",
      "66667\n",
      "786\n"
     ]
    }
   ],
   "source": [
    "if 5 in sc:\n",
    "    print(\"ssss\")\n",
    "for i in sc:\n",
    "    print(i)"
   ]
  },
  {
   "cell_type": "code",
   "execution_count": 32,
   "metadata": {},
   "outputs": [
    {
     "name": "stdout",
     "output_type": "stream",
     "text": [
      "i love python\n",
      "4 5 6\n",
      "1 2 3\n"
     ]
    }
   ],
   "source": [
    "# 集合的另外一种遍历\n",
    "\n",
    "\n",
    "sa = {(1,2,3),(4,5,6),(\"i\", \"love\", \"python\")}\n",
    "for i,j,k in sa:\n",
    "    print(i,j,k)"
   ]
  },
  {
   "cell_type": "code",
   "execution_count": 3,
   "metadata": {},
   "outputs": [
    {
     "name": "stdout",
     "output_type": "stream",
     "text": [
      "{1, 2, 3, 4, 5, 6, 7, 8, 9, 10}\n",
      "{2, 4, 6, 8, 10}\n",
      "{64, 100, 4, 36, 16}\n",
      "{1, 2, 3, 4, 5, 6, 7, 8, 9, 10, 12, 14, 15, 16, 18, 20, 21, 24, 25, 27, 28, 30, 32, 35, 36, 40, 42, 45, 48, 49, 50, 54, 56, 60, 63, 64, 70, 72, 80, 81, 90, 100}\n"
     ]
    }
   ],
   "source": [
    "# 集合的内涵（生成式）\n",
    "sa = {1,2,3,4,5,6,7,8,9,10}\n",
    "sb = {i for i in sa}\n",
    "print(sb)\n",
    "sc = {i for i in sa if i % 2 == 0}\n",
    "print(sc)\n",
    "# 双层for循环\n",
    "# 把sa中的每一个元素的平方生成一个新的集合\n",
    "# 1. 用一个for\n",
    "sd = {i**2 for i in sa if i % 2 == 0}\n",
    "print(sd)\n",
    "# 2. 使用两个for\n",
    "se = {m*n for m in sa for n in sa}\n",
    "print(se)"
   ]
  },
  {
   "cell_type": "code",
   "execution_count": 4,
   "metadata": {},
   "outputs": [
    {
     "name": "stdout",
     "output_type": "stream",
     "text": [
      "42\n"
     ]
    }
   ],
   "source": [
    "print(len(se))"
   ]
  },
  {
   "cell_type": "markdown",
   "metadata": {},
   "source": [
    "### 集合的内置函数\n",
    "- len:长度\n",
    "- max/min:最值\n",
    "- add:向集合中添加元素\n",
    "- clear 清空\n",
    "- remove 和 discard的区别"
   ]
  },
  {
   "cell_type": "code",
   "execution_count": 2,
   "metadata": {},
   "outputs": [
    {
     "name": "stdout",
     "output_type": "stream",
     "text": [
      "{1, 3, 4}\n",
      "2262241851656\n",
      "None\n",
      "140716130224144\n",
      "2262241851656\n",
      "{1, 2, 3, 4}\n"
     ]
    }
   ],
   "source": [
    "sa = {1,3,4}\n",
    "print(sa)\n",
    "print(id(sa))\n",
    "sb = sa.add(2)\n",
    "print(sb)\n",
    "print(id(sb))\n",
    "print(id(sa))# 集合插入是在原来的基础上直接插入，不改变原有地址\n",
    "print(sa)"
   ]
  },
  {
   "cell_type": "code",
   "execution_count": 11,
   "metadata": {},
   "outputs": [
    {
     "name": "stdout",
     "output_type": "stream",
     "text": [
      "{1, 2, 3, 4, 5, 6}\n",
      "{1, 2, 3, 4, 6}\n",
      "{1, 2, 3, 4, 6}\n"
     ]
    }
   ],
   "source": [
    "# remove的删除直接删除，如果集合中没有，报错，discard不报错\n",
    "sd = {1,2,3,3,4,5,6}\n",
    "print(sd)\n",
    "sd.remove(5)\n",
    "print(sd)\n",
    "#sd.remove(5) # 报错\n",
    "#print(sd)\n",
    "sd.discard(5)# 不报错\n",
    "print(sd)"
   ]
  },
  {
   "cell_type": "code",
   "execution_count": 20,
   "metadata": {},
   "outputs": [
    {
     "name": "stdout",
     "output_type": "stream",
     "text": [
      "{1, 2, 3, 4, 5, 6}\n",
      "{2, 3, 4, 5, 6}\n"
     ]
    }
   ],
   "source": [
    "# pop弹出集合的一个内容\n",
    "# 删除的内容是随机的\n",
    "# 删除内容没啥规律，随机\n",
    "sa = {1,2,3,4,5,6}\n",
    "print(sa)\n",
    "sa.pop()\n",
    "print(sa)"
   ]
  },
  {
   "cell_type": "markdown",
   "metadata": {},
   "source": [
    "### 集合的数学操作\n",
    "- intersection：交集\n",
    "- difference:差集\n",
    "- union :并集"
   ]
  },
  {
   "cell_type": "code",
   "execution_count": 25,
   "metadata": {},
   "outputs": [
    {
     "name": "stdout",
     "output_type": "stream",
     "text": [
      "{3, 4, 5, 6, 7}\n",
      "{1, 2}\n",
      "{1, 2}\n",
      "{1, 2, 3, 4, 5, 6, 7, 8}\n"
     ]
    }
   ],
   "source": [
    "sa = {1,2,3,4,5,6,7}\n",
    "sb = {3,4,5,6,7,8}\n",
    "print(sa.intersection(sb))\n",
    "print(sa.difference(sb))##sa-sb\n",
    "print(sa-sb)## 和difference相同\n",
    "print(sa.union(sb))# 并集"
   ]
  },
  {
   "cell_type": "markdown",
   "metadata": {},
   "source": [
    "### frozenset冰冻集合\n",
    "- 不允许修改的集合\n"
   ]
  },
  {
   "cell_type": "code",
   "execution_count": 30,
   "metadata": {},
   "outputs": [
    {
     "name": "stdout",
     "output_type": "stream",
     "text": [
      "{1, 2, 3, 4, 5, 6, 7}\n",
      "frozenset({1, 2, 3, 4, 5, 6, 7})\n"
     ]
    }
   ],
   "source": [
    "# 案例\n",
    "print(sa)\n",
    "sb = frozenset(sa)\n",
    "print(sb)"
   ]
  },
  {
   "cell_type": "code",
   "execution_count": null,
   "metadata": {},
   "outputs": [],
   "source": []
  },
  {
   "cell_type": "code",
   "execution_count": null,
   "metadata": {},
   "outputs": [],
   "source": []
  },
  {
   "cell_type": "code",
   "execution_count": null,
   "metadata": {},
   "outputs": [],
   "source": []
  },
  {
   "cell_type": "code",
   "execution_count": null,
   "metadata": {},
   "outputs": [],
   "source": []
  },
  {
   "cell_type": "code",
   "execution_count": null,
   "metadata": {},
   "outputs": [],
   "source": []
  }
 ],
 "metadata": {
  "kernelspec": {
   "display_name": "Python 3",
   "language": "python",
   "name": "python3"
  },
  "language_info": {
   "codemirror_mode": {
    "name": "ipython",
    "version": 3
   },
   "file_extension": ".py",
   "mimetype": "text/x-python",
   "name": "python",
   "nbconvert_exporter": "python",
   "pygments_lexer": "ipython3",
   "version": "3.7.0"
  }
 },
 "nbformat": 4,
 "nbformat_minor": 2
}
